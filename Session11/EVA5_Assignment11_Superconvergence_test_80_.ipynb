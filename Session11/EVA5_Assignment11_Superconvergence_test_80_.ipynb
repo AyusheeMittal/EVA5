{
  "nbformat": 4,
  "nbformat_minor": 0,
  "metadata": {
    "colab": {
      "name": "Copy EVA5-Assignment11-Superconvergence_test_80%.ipynb",
      "provenance": [],
      "collapsed_sections": []
    },
    "kernelspec": {
      "name": "python3",
      "display_name": "Python 3"
    },
    "accelerator": "GPU",
    "widgets": {
      "application/vnd.jupyter.widget-state+json": {
        "3d0cc6beebb54dfeb6a5fb941521e3ec": {
          "model_module": "@jupyter-widgets/controls",
          "model_name": "HBoxModel",
          "state": {
            "_view_name": "HBoxView",
            "_dom_classes": [],
            "_model_name": "HBoxModel",
            "_view_module": "@jupyter-widgets/controls",
            "_model_module_version": "1.5.0",
            "_view_count": null,
            "_view_module_version": "1.5.0",
            "box_style": "",
            "layout": "IPY_MODEL_d745adc5183946df90568d64afe394cf",
            "_model_module": "@jupyter-widgets/controls",
            "children": [
              "IPY_MODEL_9c2fc17edd254b96af26dcb18c13b4bc",
              "IPY_MODEL_03a5d5b746fc423b8c70a95dc9ed4e57"
            ]
          }
        },
        "d745adc5183946df90568d64afe394cf": {
          "model_module": "@jupyter-widgets/base",
          "model_name": "LayoutModel",
          "state": {
            "_view_name": "LayoutView",
            "grid_template_rows": null,
            "right": null,
            "justify_content": null,
            "_view_module": "@jupyter-widgets/base",
            "overflow": null,
            "_model_module_version": "1.2.0",
            "_view_count": null,
            "flex_flow": null,
            "width": null,
            "min_width": null,
            "border": null,
            "align_items": null,
            "bottom": null,
            "_model_module": "@jupyter-widgets/base",
            "top": null,
            "grid_column": null,
            "overflow_y": null,
            "overflow_x": null,
            "grid_auto_flow": null,
            "grid_area": null,
            "grid_template_columns": null,
            "flex": null,
            "_model_name": "LayoutModel",
            "justify_items": null,
            "grid_row": null,
            "max_height": null,
            "align_content": null,
            "visibility": null,
            "align_self": null,
            "height": null,
            "min_height": null,
            "padding": null,
            "grid_auto_rows": null,
            "grid_gap": null,
            "max_width": null,
            "order": null,
            "_view_module_version": "1.2.0",
            "grid_template_areas": null,
            "object_position": null,
            "object_fit": null,
            "grid_auto_columns": null,
            "margin": null,
            "display": null,
            "left": null
          }
        },
        "9c2fc17edd254b96af26dcb18c13b4bc": {
          "model_module": "@jupyter-widgets/controls",
          "model_name": "FloatProgressModel",
          "state": {
            "_view_name": "ProgressView",
            "style": "IPY_MODEL_cd381be2858f49a4affe19728a4db2b3",
            "_dom_classes": [],
            "description": "",
            "_model_name": "FloatProgressModel",
            "bar_style": "success",
            "max": 1,
            "_view_module": "@jupyter-widgets/controls",
            "_model_module_version": "1.5.0",
            "value": 1,
            "_view_count": null,
            "_view_module_version": "1.5.0",
            "orientation": "horizontal",
            "min": 0,
            "description_tooltip": null,
            "_model_module": "@jupyter-widgets/controls",
            "layout": "IPY_MODEL_fb47431acbb34c6081aa0014a958c3c0"
          }
        },
        "03a5d5b746fc423b8c70a95dc9ed4e57": {
          "model_module": "@jupyter-widgets/controls",
          "model_name": "HTMLModel",
          "state": {
            "_view_name": "HTMLView",
            "style": "IPY_MODEL_d19ae3842f844e3c85ae9479b3838d1b",
            "_dom_classes": [],
            "description": "",
            "_model_name": "HTMLModel",
            "placeholder": "​",
            "_view_module": "@jupyter-widgets/controls",
            "_model_module_version": "1.5.0",
            "value": " 170500096/? [00:08&lt;00:00, 19569006.75it/s]",
            "_view_count": null,
            "_view_module_version": "1.5.0",
            "description_tooltip": null,
            "_model_module": "@jupyter-widgets/controls",
            "layout": "IPY_MODEL_a2e301cda474457891f05f596e3089da"
          }
        },
        "cd381be2858f49a4affe19728a4db2b3": {
          "model_module": "@jupyter-widgets/controls",
          "model_name": "ProgressStyleModel",
          "state": {
            "_view_name": "StyleView",
            "_model_name": "ProgressStyleModel",
            "description_width": "initial",
            "_view_module": "@jupyter-widgets/base",
            "_model_module_version": "1.5.0",
            "_view_count": null,
            "_view_module_version": "1.2.0",
            "bar_color": null,
            "_model_module": "@jupyter-widgets/controls"
          }
        },
        "fb47431acbb34c6081aa0014a958c3c0": {
          "model_module": "@jupyter-widgets/base",
          "model_name": "LayoutModel",
          "state": {
            "_view_name": "LayoutView",
            "grid_template_rows": null,
            "right": null,
            "justify_content": null,
            "_view_module": "@jupyter-widgets/base",
            "overflow": null,
            "_model_module_version": "1.2.0",
            "_view_count": null,
            "flex_flow": null,
            "width": null,
            "min_width": null,
            "border": null,
            "align_items": null,
            "bottom": null,
            "_model_module": "@jupyter-widgets/base",
            "top": null,
            "grid_column": null,
            "overflow_y": null,
            "overflow_x": null,
            "grid_auto_flow": null,
            "grid_area": null,
            "grid_template_columns": null,
            "flex": null,
            "_model_name": "LayoutModel",
            "justify_items": null,
            "grid_row": null,
            "max_height": null,
            "align_content": null,
            "visibility": null,
            "align_self": null,
            "height": null,
            "min_height": null,
            "padding": null,
            "grid_auto_rows": null,
            "grid_gap": null,
            "max_width": null,
            "order": null,
            "_view_module_version": "1.2.0",
            "grid_template_areas": null,
            "object_position": null,
            "object_fit": null,
            "grid_auto_columns": null,
            "margin": null,
            "display": null,
            "left": null
          }
        },
        "d19ae3842f844e3c85ae9479b3838d1b": {
          "model_module": "@jupyter-widgets/controls",
          "model_name": "DescriptionStyleModel",
          "state": {
            "_view_name": "StyleView",
            "_model_name": "DescriptionStyleModel",
            "description_width": "",
            "_view_module": "@jupyter-widgets/base",
            "_model_module_version": "1.5.0",
            "_view_count": null,
            "_view_module_version": "1.2.0",
            "_model_module": "@jupyter-widgets/controls"
          }
        },
        "a2e301cda474457891f05f596e3089da": {
          "model_module": "@jupyter-widgets/base",
          "model_name": "LayoutModel",
          "state": {
            "_view_name": "LayoutView",
            "grid_template_rows": null,
            "right": null,
            "justify_content": null,
            "_view_module": "@jupyter-widgets/base",
            "overflow": null,
            "_model_module_version": "1.2.0",
            "_view_count": null,
            "flex_flow": null,
            "width": null,
            "min_width": null,
            "border": null,
            "align_items": null,
            "bottom": null,
            "_model_module": "@jupyter-widgets/base",
            "top": null,
            "grid_column": null,
            "overflow_y": null,
            "overflow_x": null,
            "grid_auto_flow": null,
            "grid_area": null,
            "grid_template_columns": null,
            "flex": null,
            "_model_name": "LayoutModel",
            "justify_items": null,
            "grid_row": null,
            "max_height": null,
            "align_content": null,
            "visibility": null,
            "align_self": null,
            "height": null,
            "min_height": null,
            "padding": null,
            "grid_auto_rows": null,
            "grid_gap": null,
            "max_width": null,
            "order": null,
            "_view_module_version": "1.2.0",
            "grid_template_areas": null,
            "object_position": null,
            "object_fit": null,
            "grid_auto_columns": null,
            "margin": null,
            "display": null,
            "left": null
          }
        },
        "4ac25c21e1d6458f88b756c9bbcb82a9": {
          "model_module": "@jupyter-widgets/controls",
          "model_name": "HBoxModel",
          "state": {
            "_view_name": "HBoxView",
            "_dom_classes": [],
            "_model_name": "HBoxModel",
            "_view_module": "@jupyter-widgets/controls",
            "_model_module_version": "1.5.0",
            "_view_count": null,
            "_view_module_version": "1.5.0",
            "box_style": "",
            "layout": "IPY_MODEL_29d1513a0b894c88b22f4bd2f935c0fc",
            "_model_module": "@jupyter-widgets/controls",
            "children": [
              "IPY_MODEL_cc590fae17ce4a429bb91b22fa03b103",
              "IPY_MODEL_716fc41252f94dfab99a9875181982ad"
            ]
          }
        },
        "29d1513a0b894c88b22f4bd2f935c0fc": {
          "model_module": "@jupyter-widgets/base",
          "model_name": "LayoutModel",
          "state": {
            "_view_name": "LayoutView",
            "grid_template_rows": null,
            "right": null,
            "justify_content": null,
            "_view_module": "@jupyter-widgets/base",
            "overflow": null,
            "_model_module_version": "1.2.0",
            "_view_count": null,
            "flex_flow": null,
            "width": null,
            "min_width": null,
            "border": null,
            "align_items": null,
            "bottom": null,
            "_model_module": "@jupyter-widgets/base",
            "top": null,
            "grid_column": null,
            "overflow_y": null,
            "overflow_x": null,
            "grid_auto_flow": null,
            "grid_area": null,
            "grid_template_columns": null,
            "flex": null,
            "_model_name": "LayoutModel",
            "justify_items": null,
            "grid_row": null,
            "max_height": null,
            "align_content": null,
            "visibility": null,
            "align_self": null,
            "height": null,
            "min_height": null,
            "padding": null,
            "grid_auto_rows": null,
            "grid_gap": null,
            "max_width": null,
            "order": null,
            "_view_module_version": "1.2.0",
            "grid_template_areas": null,
            "object_position": null,
            "object_fit": null,
            "grid_auto_columns": null,
            "margin": null,
            "display": null,
            "left": null
          }
        },
        "cc590fae17ce4a429bb91b22fa03b103": {
          "model_module": "@jupyter-widgets/controls",
          "model_name": "FloatProgressModel",
          "state": {
            "_view_name": "ProgressView",
            "style": "IPY_MODEL_e534274f729f4ec4b9cd3238a55cb32e",
            "_dom_classes": [],
            "description": "100%",
            "_model_name": "FloatProgressModel",
            "bar_style": "success",
            "max": 300,
            "_view_module": "@jupyter-widgets/controls",
            "_model_module_version": "1.5.0",
            "value": 300,
            "_view_count": null,
            "_view_module_version": "1.5.0",
            "orientation": "horizontal",
            "min": 0,
            "description_tooltip": null,
            "_model_module": "@jupyter-widgets/controls",
            "layout": "IPY_MODEL_6e6cf1f9751f47c88c8aa38e90d9fb5b"
          }
        },
        "716fc41252f94dfab99a9875181982ad": {
          "model_module": "@jupyter-widgets/controls",
          "model_name": "HTMLModel",
          "state": {
            "_view_name": "HTMLView",
            "style": "IPY_MODEL_c6616e6b4db14cccb48213e06ebff992",
            "_dom_classes": [],
            "description": "",
            "_model_name": "HTMLModel",
            "placeholder": "​",
            "_view_module": "@jupyter-widgets/controls",
            "_model_module_version": "1.5.0",
            "value": " 300/300 [31:06&lt;00:00,  6.22s/it]",
            "_view_count": null,
            "_view_module_version": "1.5.0",
            "description_tooltip": null,
            "_model_module": "@jupyter-widgets/controls",
            "layout": "IPY_MODEL_220d76d2cd0141a4904ea13c9d61f8f9"
          }
        },
        "e534274f729f4ec4b9cd3238a55cb32e": {
          "model_module": "@jupyter-widgets/controls",
          "model_name": "ProgressStyleModel",
          "state": {
            "_view_name": "StyleView",
            "_model_name": "ProgressStyleModel",
            "description_width": "initial",
            "_view_module": "@jupyter-widgets/base",
            "_model_module_version": "1.5.0",
            "_view_count": null,
            "_view_module_version": "1.2.0",
            "bar_color": null,
            "_model_module": "@jupyter-widgets/controls"
          }
        },
        "6e6cf1f9751f47c88c8aa38e90d9fb5b": {
          "model_module": "@jupyter-widgets/base",
          "model_name": "LayoutModel",
          "state": {
            "_view_name": "LayoutView",
            "grid_template_rows": null,
            "right": null,
            "justify_content": null,
            "_view_module": "@jupyter-widgets/base",
            "overflow": null,
            "_model_module_version": "1.2.0",
            "_view_count": null,
            "flex_flow": null,
            "width": null,
            "min_width": null,
            "border": null,
            "align_items": null,
            "bottom": null,
            "_model_module": "@jupyter-widgets/base",
            "top": null,
            "grid_column": null,
            "overflow_y": null,
            "overflow_x": null,
            "grid_auto_flow": null,
            "grid_area": null,
            "grid_template_columns": null,
            "flex": null,
            "_model_name": "LayoutModel",
            "justify_items": null,
            "grid_row": null,
            "max_height": null,
            "align_content": null,
            "visibility": null,
            "align_self": null,
            "height": null,
            "min_height": null,
            "padding": null,
            "grid_auto_rows": null,
            "grid_gap": null,
            "max_width": null,
            "order": null,
            "_view_module_version": "1.2.0",
            "grid_template_areas": null,
            "object_position": null,
            "object_fit": null,
            "grid_auto_columns": null,
            "margin": null,
            "display": null,
            "left": null
          }
        },
        "c6616e6b4db14cccb48213e06ebff992": {
          "model_module": "@jupyter-widgets/controls",
          "model_name": "DescriptionStyleModel",
          "state": {
            "_view_name": "StyleView",
            "_model_name": "DescriptionStyleModel",
            "description_width": "",
            "_view_module": "@jupyter-widgets/base",
            "_model_module_version": "1.5.0",
            "_view_count": null,
            "_view_module_version": "1.2.0",
            "_model_module": "@jupyter-widgets/controls"
          }
        },
        "220d76d2cd0141a4904ea13c9d61f8f9": {
          "model_module": "@jupyter-widgets/base",
          "model_name": "LayoutModel",
          "state": {
            "_view_name": "LayoutView",
            "grid_template_rows": null,
            "right": null,
            "justify_content": null,
            "_view_module": "@jupyter-widgets/base",
            "overflow": null,
            "_model_module_version": "1.2.0",
            "_view_count": null,
            "flex_flow": null,
            "width": null,
            "min_width": null,
            "border": null,
            "align_items": null,
            "bottom": null,
            "_model_module": "@jupyter-widgets/base",
            "top": null,
            "grid_column": null,
            "overflow_y": null,
            "overflow_x": null,
            "grid_auto_flow": null,
            "grid_area": null,
            "grid_template_columns": null,
            "flex": null,
            "_model_name": "LayoutModel",
            "justify_items": null,
            "grid_row": null,
            "max_height": null,
            "align_content": null,
            "visibility": null,
            "align_self": null,
            "height": null,
            "min_height": null,
            "padding": null,
            "grid_auto_rows": null,
            "grid_gap": null,
            "max_width": null,
            "order": null,
            "_view_module_version": "1.2.0",
            "grid_template_areas": null,
            "object_position": null,
            "object_fit": null,
            "grid_auto_columns": null,
            "margin": null,
            "display": null,
            "left": null
          }
        },
        "ddc8157bec48406c896c3cca3c9b7b7b": {
          "model_module": "@jupyter-widgets/controls",
          "model_name": "HBoxModel",
          "state": {
            "_view_name": "HBoxView",
            "_dom_classes": [],
            "_model_name": "HBoxModel",
            "_view_module": "@jupyter-widgets/controls",
            "_model_module_version": "1.5.0",
            "_view_count": null,
            "_view_module_version": "1.5.0",
            "box_style": "",
            "layout": "IPY_MODEL_b3a4e9a11af242e2b919900a6e9d180f",
            "_model_module": "@jupyter-widgets/controls",
            "children": [
              "IPY_MODEL_8b635f4c21414d208709bb1b224fdd23",
              "IPY_MODEL_a7916f4d9ce94d7b9ce051a2e6e1c609"
            ]
          }
        },
        "b3a4e9a11af242e2b919900a6e9d180f": {
          "model_module": "@jupyter-widgets/base",
          "model_name": "LayoutModel",
          "state": {
            "_view_name": "LayoutView",
            "grid_template_rows": null,
            "right": null,
            "justify_content": null,
            "_view_module": "@jupyter-widgets/base",
            "overflow": null,
            "_model_module_version": "1.2.0",
            "_view_count": null,
            "flex_flow": null,
            "width": null,
            "min_width": null,
            "border": null,
            "align_items": null,
            "bottom": null,
            "_model_module": "@jupyter-widgets/base",
            "top": null,
            "grid_column": null,
            "overflow_y": null,
            "overflow_x": null,
            "grid_auto_flow": null,
            "grid_area": null,
            "grid_template_columns": null,
            "flex": null,
            "_model_name": "LayoutModel",
            "justify_items": null,
            "grid_row": null,
            "max_height": null,
            "align_content": null,
            "visibility": null,
            "align_self": null,
            "height": null,
            "min_height": null,
            "padding": null,
            "grid_auto_rows": null,
            "grid_gap": null,
            "max_width": null,
            "order": null,
            "_view_module_version": "1.2.0",
            "grid_template_areas": null,
            "object_position": null,
            "object_fit": null,
            "grid_auto_columns": null,
            "margin": null,
            "display": null,
            "left": null
          }
        },
        "8b635f4c21414d208709bb1b224fdd23": {
          "model_module": "@jupyter-widgets/controls",
          "model_name": "FloatProgressModel",
          "state": {
            "_view_name": "ProgressView",
            "style": "IPY_MODEL_93e08af95f014dcdb5166d7655657bd6",
            "_dom_classes": [],
            "description": "100%",
            "_model_name": "FloatProgressModel",
            "bar_style": "success",
            "max": 300,
            "_view_module": "@jupyter-widgets/controls",
            "_model_module_version": "1.5.0",
            "value": 300,
            "_view_count": null,
            "_view_module_version": "1.5.0",
            "orientation": "horizontal",
            "min": 0,
            "description_tooltip": null,
            "_model_module": "@jupyter-widgets/controls",
            "layout": "IPY_MODEL_0f7600007a9c46bb9807549d743d6bf6"
          }
        },
        "a7916f4d9ce94d7b9ce051a2e6e1c609": {
          "model_module": "@jupyter-widgets/controls",
          "model_name": "HTMLModel",
          "state": {
            "_view_name": "HTMLView",
            "style": "IPY_MODEL_2716a9b39b704ff8a4a48ffb1458866a",
            "_dom_classes": [],
            "description": "",
            "_model_name": "HTMLModel",
            "placeholder": "​",
            "_view_module": "@jupyter-widgets/controls",
            "_model_module_version": "1.5.0",
            "value": " 300/300 [05:03&lt;00:00,  1.01s/it]",
            "_view_count": null,
            "_view_module_version": "1.5.0",
            "description_tooltip": null,
            "_model_module": "@jupyter-widgets/controls",
            "layout": "IPY_MODEL_cf1329d8bb984b56b4e9c03afb260941"
          }
        },
        "93e08af95f014dcdb5166d7655657bd6": {
          "model_module": "@jupyter-widgets/controls",
          "model_name": "ProgressStyleModel",
          "state": {
            "_view_name": "StyleView",
            "_model_name": "ProgressStyleModel",
            "description_width": "initial",
            "_view_module": "@jupyter-widgets/base",
            "_model_module_version": "1.5.0",
            "_view_count": null,
            "_view_module_version": "1.2.0",
            "bar_color": null,
            "_model_module": "@jupyter-widgets/controls"
          }
        },
        "0f7600007a9c46bb9807549d743d6bf6": {
          "model_module": "@jupyter-widgets/base",
          "model_name": "LayoutModel",
          "state": {
            "_view_name": "LayoutView",
            "grid_template_rows": null,
            "right": null,
            "justify_content": null,
            "_view_module": "@jupyter-widgets/base",
            "overflow": null,
            "_model_module_version": "1.2.0",
            "_view_count": null,
            "flex_flow": null,
            "width": null,
            "min_width": null,
            "border": null,
            "align_items": null,
            "bottom": null,
            "_model_module": "@jupyter-widgets/base",
            "top": null,
            "grid_column": null,
            "overflow_y": null,
            "overflow_x": null,
            "grid_auto_flow": null,
            "grid_area": null,
            "grid_template_columns": null,
            "flex": null,
            "_model_name": "LayoutModel",
            "justify_items": null,
            "grid_row": null,
            "max_height": null,
            "align_content": null,
            "visibility": null,
            "align_self": null,
            "height": null,
            "min_height": null,
            "padding": null,
            "grid_auto_rows": null,
            "grid_gap": null,
            "max_width": null,
            "order": null,
            "_view_module_version": "1.2.0",
            "grid_template_areas": null,
            "object_position": null,
            "object_fit": null,
            "grid_auto_columns": null,
            "margin": null,
            "display": null,
            "left": null
          }
        },
        "2716a9b39b704ff8a4a48ffb1458866a": {
          "model_module": "@jupyter-widgets/controls",
          "model_name": "DescriptionStyleModel",
          "state": {
            "_view_name": "StyleView",
            "_model_name": "DescriptionStyleModel",
            "description_width": "",
            "_view_module": "@jupyter-widgets/base",
            "_model_module_version": "1.5.0",
            "_view_count": null,
            "_view_module_version": "1.2.0",
            "_model_module": "@jupyter-widgets/controls"
          }
        },
        "cf1329d8bb984b56b4e9c03afb260941": {
          "model_module": "@jupyter-widgets/base",
          "model_name": "LayoutModel",
          "state": {
            "_view_name": "LayoutView",
            "grid_template_rows": null,
            "right": null,
            "justify_content": null,
            "_view_module": "@jupyter-widgets/base",
            "overflow": null,
            "_model_module_version": "1.2.0",
            "_view_count": null,
            "flex_flow": null,
            "width": null,
            "min_width": null,
            "border": null,
            "align_items": null,
            "bottom": null,
            "_model_module": "@jupyter-widgets/base",
            "top": null,
            "grid_column": null,
            "overflow_y": null,
            "overflow_x": null,
            "grid_auto_flow": null,
            "grid_area": null,
            "grid_template_columns": null,
            "flex": null,
            "_model_name": "LayoutModel",
            "justify_items": null,
            "grid_row": null,
            "max_height": null,
            "align_content": null,
            "visibility": null,
            "align_self": null,
            "height": null,
            "min_height": null,
            "padding": null,
            "grid_auto_rows": null,
            "grid_gap": null,
            "max_width": null,
            "order": null,
            "_view_module_version": "1.2.0",
            "grid_template_areas": null,
            "object_position": null,
            "object_fit": null,
            "grid_auto_columns": null,
            "margin": null,
            "display": null,
            "left": null
          }
        }
      }
    }
  },
  "cells": [
    {
      "cell_type": "code",
      "metadata": {
        "id": "m3p_EohF64H1"
      },
      "source": [
        "import torch\n",
        "import torchvision\n",
        "import torch.optim as optim\n",
        "import torch.nn as nn\n",
        "import numpy as np\n",
        "import matplotlib.pyplot as plt\n",
        "from torch.optim.lr_scheduler import StepLR, ReduceLROnPlateau, OneCycleLR\n",
        "from torchvision import transforms\n",
        "import torch.nn.functional as F\n"
      ],
      "execution_count": null,
      "outputs": []
    },
    {
      "cell_type": "code",
      "metadata": {
        "id": "aFK1HTSB7Oaf",
        "outputId": "78353a15-0ae1-4e9c-f023-373ab99f63b0",
        "colab": {
          "base_uri": "https://localhost:8080/",
          "height": 714
        }
      },
      "source": [
        "!pip install git+https://github.com/smitasasindran/eva5utils.git"
      ],
      "execution_count": null,
      "outputs": [
        {
          "output_type": "stream",
          "text": [
            "Collecting git+https://github.com/smitasasindran/eva5utils.git\n",
            "  Cloning https://github.com/smitasasindran/eva5utils.git to /tmp/pip-req-build-0vhzqhfz\n",
            "  Running command git clone -q https://github.com/smitasasindran/eva5utils.git /tmp/pip-req-build-0vhzqhfz\n",
            "Requirement already satisfied: torch in /usr/local/lib/python3.6/dist-packages (from eva5utils==0.1.0) (1.6.0+cu101)\n",
            "Requirement already satisfied: numpy in /usr/local/lib/python3.6/dist-packages (from eva5utils==0.1.0) (1.18.5)\n",
            "Requirement already satisfied: matplotlib in /usr/local/lib/python3.6/dist-packages (from eva5utils==0.1.0) (3.2.2)\n",
            "Requirement already satisfied: torchsummary in /usr/local/lib/python3.6/dist-packages (from eva5utils==0.1.0) (1.5.1)\n",
            "Requirement already satisfied: torchvision in /usr/local/lib/python3.6/dist-packages (from eva5utils==0.1.0) (0.7.0+cu101)\n",
            "Requirement already satisfied: albumentations in /usr/local/lib/python3.6/dist-packages (from eva5utils==0.1.0) (0.1.12)\n",
            "Requirement already satisfied: opencv-python in /usr/local/lib/python3.6/dist-packages (from eva5utils==0.1.0) (4.1.2.30)\n",
            "Requirement already satisfied: Pillow in /usr/local/lib/python3.6/dist-packages (from eva5utils==0.1.0) (7.0.0)\n",
            "Requirement already satisfied: future in /usr/local/lib/python3.6/dist-packages (from torch->eva5utils==0.1.0) (0.16.0)\n",
            "Requirement already satisfied: kiwisolver>=1.0.1 in /usr/local/lib/python3.6/dist-packages (from matplotlib->eva5utils==0.1.0) (1.2.0)\n",
            "Requirement already satisfied: cycler>=0.10 in /usr/local/lib/python3.6/dist-packages (from matplotlib->eva5utils==0.1.0) (0.10.0)\n",
            "Requirement already satisfied: pyparsing!=2.0.4,!=2.1.2,!=2.1.6,>=2.0.1 in /usr/local/lib/python3.6/dist-packages (from matplotlib->eva5utils==0.1.0) (2.4.7)\n",
            "Requirement already satisfied: python-dateutil>=2.1 in /usr/local/lib/python3.6/dist-packages (from matplotlib->eva5utils==0.1.0) (2.8.1)\n",
            "Collecting imgaug<0.2.7,>=0.2.5\n",
            "\u001b[?25l  Downloading https://files.pythonhosted.org/packages/ad/2e/748dbb7bb52ec8667098bae9b585f448569ae520031932687761165419a2/imgaug-0.2.6.tar.gz (631kB)\n",
            "\u001b[K     |████████████████████████████████| 634kB 5.3MB/s \n",
            "\u001b[?25hRequirement already satisfied: scipy in /usr/local/lib/python3.6/dist-packages (from albumentations->eva5utils==0.1.0) (1.4.1)\n",
            "Requirement already satisfied: six in /usr/local/lib/python3.6/dist-packages (from cycler>=0.10->matplotlib->eva5utils==0.1.0) (1.15.0)\n",
            "Requirement already satisfied: scikit-image>=0.11.0 in /usr/local/lib/python3.6/dist-packages (from imgaug<0.2.7,>=0.2.5->albumentations->eva5utils==0.1.0) (0.16.2)\n",
            "Requirement already satisfied: networkx>=2.0 in /usr/local/lib/python3.6/dist-packages (from scikit-image>=0.11.0->imgaug<0.2.7,>=0.2.5->albumentations->eva5utils==0.1.0) (2.5)\n",
            "Requirement already satisfied: PyWavelets>=0.4.0 in /usr/local/lib/python3.6/dist-packages (from scikit-image>=0.11.0->imgaug<0.2.7,>=0.2.5->albumentations->eva5utils==0.1.0) (1.1.1)\n",
            "Requirement already satisfied: imageio>=2.3.0 in /usr/local/lib/python3.6/dist-packages (from scikit-image>=0.11.0->imgaug<0.2.7,>=0.2.5->albumentations->eva5utils==0.1.0) (2.4.1)\n",
            "Requirement already satisfied: decorator>=4.3.0 in /usr/local/lib/python3.6/dist-packages (from networkx>=2.0->scikit-image>=0.11.0->imgaug<0.2.7,>=0.2.5->albumentations->eva5utils==0.1.0) (4.4.2)\n",
            "Building wheels for collected packages: eva5utils, imgaug\n",
            "  Building wheel for eva5utils (setup.py) ... \u001b[?25l\u001b[?25hdone\n",
            "  Created wheel for eva5utils: filename=eva5utils-0.1.0-cp36-none-any.whl size=29646 sha256=eae6e2e12b46266331269571f7aaa38f3e3e4378f4aeef85680b10f64e178d13\n",
            "  Stored in directory: /tmp/pip-ephem-wheel-cache-q2a92e4w/wheels/c6/bb/ac/e3952b213bfdb25cb23715782e1a6b4b4b5cb10e42a2b80aa9\n",
            "  Building wheel for imgaug (setup.py) ... \u001b[?25l\u001b[?25hdone\n",
            "  Created wheel for imgaug: filename=imgaug-0.2.6-cp36-none-any.whl size=654021 sha256=85df5e6e18f1e0c07bc5e601e1ad519a3f87f110bc7b6ec826cf1707b6a65ddb\n",
            "  Stored in directory: /root/.cache/pip/wheels/97/ec/48/0d25896c417b715af6236dbcef8f0bed136a1a5e52972fc6d0\n",
            "Successfully built eva5utils imgaug\n",
            "Installing collected packages: eva5utils, imgaug\n",
            "  Found existing installation: imgaug 0.2.9\n",
            "    Uninstalling imgaug-0.2.9:\n",
            "      Successfully uninstalled imgaug-0.2.9\n",
            "Successfully installed eva5utils-0.1.0 imgaug-0.2.6\n"
          ],
          "name": "stdout"
        }
      ]
    },
    {
      "cell_type": "code",
      "metadata": {
        "id": "ss5a7X827QW5"
      },
      "source": [
        "from eva5utils.dataloaders import load_cifar10\n",
        "from eva5utils.model import ResNet18, Model11\n",
        "from eva5utils.transforms import model9_resnet_train_transforms, model9_resnet_test_transforms, model11_davidnet_train_transforms\n",
        "from eva5utils.train import train_loop, train_onecyclelr\n",
        "from eva5utils.test import test_loop\n",
        "from eva5utils.utils import plot_samples, LRFinder, TrainDataLoaderIter, ValDataLoaderIter, plot_misclassified_gradcam, plot_train_vs_test, LRRangeFinder\n",
        "from eva5utils.utils.helpers import show_model_summary, DEVICE, IS_CUDA, accuracy_per_class, show_gradcam, find_misclassified"
      ],
      "execution_count": null,
      "outputs": []
    },
    {
      "cell_type": "code",
      "metadata": {
        "id": "tBNS6EIrsU6m",
        "outputId": "8e3f8e97-bab7-4393-cead-5a3a0c3a4134",
        "colab": {
          "base_uri": "https://localhost:8080/",
          "height": 764
        }
      },
      "source": [
        "# Constants, put in config\n",
        "epochs = 24\n",
        "cuda_batch_size=512\n",
        "cpu_batch_size = 4\n",
        "num_workers = 4\n",
        "\n",
        "\n",
        "model = Model11()\n",
        "show_model_summary(model.to(DEVICE), (3, 32, 32))"
      ],
      "execution_count": null,
      "outputs": [
        {
          "output_type": "stream",
          "text": [
            "----------------------------------------------------------------\n",
            "        Layer (type)               Output Shape         Param #\n",
            "================================================================\n",
            "            Conv2d-1           [-1, 64, 32, 32]           1,728\n",
            "       BatchNorm2d-2           [-1, 64, 32, 32]             128\n",
            "              ReLU-3           [-1, 64, 32, 32]               0\n",
            "            Conv2d-4          [-1, 128, 32, 32]          73,728\n",
            "         MaxPool2d-5          [-1, 128, 16, 16]               0\n",
            "       BatchNorm2d-6          [-1, 128, 16, 16]             256\n",
            "              ReLU-7          [-1, 128, 16, 16]               0\n",
            "            Conv2d-8          [-1, 128, 16, 16]         147,456\n",
            "       BatchNorm2d-9          [-1, 128, 16, 16]             256\n",
            "             ReLU-10          [-1, 128, 16, 16]               0\n",
            "           Conv2d-11          [-1, 128, 16, 16]         147,456\n",
            "      BatchNorm2d-12          [-1, 128, 16, 16]             256\n",
            "             ReLU-13          [-1, 128, 16, 16]               0\n",
            "           Conv2d-14          [-1, 256, 16, 16]         294,912\n",
            "        MaxPool2d-15            [-1, 256, 8, 8]               0\n",
            "      BatchNorm2d-16            [-1, 256, 8, 8]             512\n",
            "             ReLU-17            [-1, 256, 8, 8]               0\n",
            "           Conv2d-18            [-1, 512, 8, 8]       1,179,648\n",
            "        MaxPool2d-19            [-1, 512, 4, 4]               0\n",
            "      BatchNorm2d-20            [-1, 512, 4, 4]           1,024\n",
            "             ReLU-21            [-1, 512, 4, 4]               0\n",
            "           Conv2d-22            [-1, 512, 4, 4]       2,359,296\n",
            "      BatchNorm2d-23            [-1, 512, 4, 4]           1,024\n",
            "             ReLU-24            [-1, 512, 4, 4]               0\n",
            "           Conv2d-25            [-1, 512, 4, 4]       2,359,296\n",
            "      BatchNorm2d-26            [-1, 512, 4, 4]           1,024\n",
            "             ReLU-27            [-1, 512, 4, 4]               0\n",
            "        MaxPool2d-28            [-1, 512, 1, 1]               0\n",
            "           Linear-29                   [-1, 10]           5,130\n",
            "================================================================\n",
            "Total params: 6,573,130\n",
            "Trainable params: 6,573,130\n",
            "Non-trainable params: 0\n",
            "----------------------------------------------------------------\n",
            "Input size (MB): 0.01\n",
            "Forward/backward pass size (MB): 6.44\n",
            "Params size (MB): 25.07\n",
            "Estimated Total Size (MB): 31.53\n",
            "----------------------------------------------------------------\n",
            "None\n"
          ],
          "name": "stdout"
        }
      ]
    },
    {
      "cell_type": "code",
      "metadata": {
        "id": "pG2Xn6Eo3n5X",
        "outputId": "cbf2142c-06e6-4418-c76f-df48d2f5c874",
        "colab": {
          "base_uri": "https://localhost:8080/",
          "height": 101,
          "referenced_widgets": [
            "3d0cc6beebb54dfeb6a5fb941521e3ec",
            "d745adc5183946df90568d64afe394cf",
            "9c2fc17edd254b96af26dcb18c13b4bc",
            "03a5d5b746fc423b8c70a95dc9ed4e57",
            "cd381be2858f49a4affe19728a4db2b3",
            "fb47431acbb34c6081aa0014a958c3c0",
            "d19ae3842f844e3c85ae9479b3838d1b",
            "a2e301cda474457891f05f596e3089da"
          ]
        }
      },
      "source": [
        "# Load datasets\n",
        "(trainloader, testloader, classes) = load_cifar10(model11_davidnet_train_transforms(), model9_resnet_test_transforms(), cuda_batch_size, cpu_batch_size, num_workers)"
      ],
      "execution_count": null,
      "outputs": [
        {
          "output_type": "stream",
          "text": [
            "Downloading https://www.cs.toronto.edu/~kriz/cifar-10-python.tar.gz to ./data/cifar-10-python.tar.gz\n"
          ],
          "name": "stdout"
        },
        {
          "output_type": "display_data",
          "data": {
            "application/vnd.jupyter.widget-view+json": {
              "model_id": "3d0cc6beebb54dfeb6a5fb941521e3ec",
              "version_minor": 0,
              "version_major": 2
            },
            "text/plain": [
              "HBox(children=(FloatProgress(value=1.0, bar_style='info', max=1.0), HTML(value='')))"
            ]
          },
          "metadata": {
            "tags": []
          }
        },
        {
          "output_type": "stream",
          "text": [
            "Extracting ./data/cifar-10-python.tar.gz to ./data\n",
            "Files already downloaded and verified\n"
          ],
          "name": "stdout"
        }
      ]
    },
    {
      "cell_type": "code",
      "metadata": {
        "id": "MHyhbGg23t0F",
        "outputId": "09478e1a-dec4-4003-d5d9-393b6fa62f4c",
        "colab": {
          "base_uri": "https://localhost:8080/",
          "height": 52
        }
      },
      "source": [
        "print(DEVICE)\n",
        "torch.cuda.is_available()"
      ],
      "execution_count": null,
      "outputs": [
        {
          "output_type": "stream",
          "text": [
            "cuda\n"
          ],
          "name": "stdout"
        },
        {
          "output_type": "execute_result",
          "data": {
            "text/plain": [
              "True"
            ]
          },
          "metadata": {
            "tags": []
          },
          "execution_count": 7
        }
      ]
    },
    {
      "cell_type": "code",
      "metadata": {
        "id": "V_zpzT6d3wbl",
        "outputId": "4162d6d6-d39c-40d2-ccf1-87792b492b0e",
        "colab": {
          "base_uri": "https://localhost:8080/",
          "height": 286
        }
      },
      "source": [
        "plot_samples(trainloader)"
      ],
      "execution_count": null,
      "outputs": [
        {
          "output_type": "stream",
          "text": [
            "\n"
          ],
          "name": "stdout"
        },
        {
          "output_type": "display_data",
          "data": {
            "image/png": "[encoded data removed]",
            "text/plain": [
              "<Figure size 432x288 with 1 Axes>"
            ]
          },
          "metadata": {
            "tags": [],
            "needs_background": "light"
          }
        }
      ]
    },
    {
      "cell_type": "code",
      "metadata": {
        "id": "Q49VWdGU4G4O",
        "outputId": "b78a4409-ebdb-48e2-e459-68f34b430dd6",
        "colab": {
          "base_uri": "https://localhost:8080/",
          "height": 384,
          "referenced_widgets": [
            "4ac25c21e1d6458f88b756c9bbcb82a9",
            "29d1513a0b894c88b22f4bd2f935c0fc",
            "cc590fae17ce4a429bb91b22fa03b103",
            "716fc41252f94dfab99a9875181982ad",
            "e534274f729f4ec4b9cd3238a55cb32e",
            "6e6cf1f9751f47c88c8aa38e90d9fb5b",
            "c6616e6b4db14cccb48213e06ebff992",
            "220d76d2cd0141a4904ea13c9d61f8f9"
          ]
        }
      },
      "source": [
        "model = Model11().to(DEVICE)\n",
        "criterion = nn.CrossEntropyLoss()\n",
        "optimizer = optim.SGD(model.parameters(), lr=0.1, momentum=0.9)\n",
        "\n",
        "lr_finder = LRRangeFinder(model, optimizer, criterion, device=DEVICE)\n",
        "lr_finder.range_test(trainloader, testloader, end_lr=5, num_iter=300, step_mode=\"linear\")\n",
        "lr_finder.plot() # to inspect the accuracy-learning rate graph\n",
        "lr_finder.reset() # to reset the model and optimizer to their initial state\n"
      ],
      "execution_count": null,
      "outputs": [
        {
          "output_type": "display_data",
          "data": {
            "application/vnd.jupyter.widget-view+json": {
              "model_id": "4ac25c21e1d6458f88b756c9bbcb82a9",
              "version_minor": 0,
              "version_major": 2
            },
            "text/plain": [
              "HBox(children=(FloatProgress(value=0.0, max=300.0), HTML(value='')))"
            ]
          },
          "metadata": {
            "tags": []
          }
        },
        {
          "output_type": "stream",
          "text": [
            "\n",
            "Learning rate search finished. See the graph with {finder_name}.plot()\n",
            "LR suggestion: Maximum Accuracy\n",
            "Suggested LR: 2.43E+00\n"
          ],
          "name": "stdout"
        },
        {
          "output_type": "display_data",
          "data": {
            "image/png": "[encoded data removed]",
            "text/plain": [
              "<Figure size 432x288 with 1 Axes>"
            ]
          },
          "metadata": {
            "tags": [],
            "needs_background": "light"
          }
        }
      ]
    },
    {
      "cell_type": "code",
      "metadata": {
        "id": "_-67KH4jH3YF",
        "outputId": "24ef209d-0963-4e1c-d4f9-c49f8023e56a",
        "colab": {
          "base_uri": "https://localhost:8080/",
          "height": 384,
          "referenced_widgets": [
            "ddc8157bec48406c896c3cca3c9b7b7b",
            "b3a4e9a11af242e2b919900a6e9d180f",
            "8b635f4c21414d208709bb1b224fdd23",
            "a7916f4d9ce94d7b9ce051a2e6e1c609",
            "93e08af95f014dcdb5166d7655657bd6",
            "0f7600007a9c46bb9807549d743d6bf6",
            "2716a9b39b704ff8a4a48ffb1458866a",
            "cf1329d8bb984b56b4e9c03afb260941"
          ]
        }
      },
      "source": [
        "model = Model11().to(DEVICE)\n",
        "criterion = nn.CrossEntropyLoss()\n",
        "optimizer = optim.SGD(model.parameters(), lr=0.1, momentum=0.9) #lr=1e-7\n",
        "\n",
        "lr_finder = LRFinder(model, optimizer, criterion, device=DEVICE)\n",
        "lr_finder.range_test(trainloader, end_lr=1, num_iter=300)\n",
        "lr_finder.plot() # to inspect the loss-learning rate graph\n",
        "lr_finder.reset() # to reset the model and optimizer to their initial state"
      ],
      "execution_count": null,
      "outputs": [
        {
          "output_type": "display_data",
          "data": {
            "application/vnd.jupyter.widget-view+json": {
              "model_id": "ddc8157bec48406c896c3cca3c9b7b7b",
              "version_minor": 0,
              "version_major": 2
            },
            "text/plain": [
              "HBox(children=(FloatProgress(value=0.0, max=300.0), HTML(value='')))"
            ]
          },
          "metadata": {
            "tags": []
          }
        },
        {
          "output_type": "stream",
          "text": [
            "\n",
            "Learning rate search finished. See the graph with {finder_name}.plot()\n",
            "LR suggestion: steepest gradient\n",
            "Suggested LR: 1.11E-01\n"
          ],
          "name": "stdout"
        },
        {
          "output_type": "display_data",
          "data": {
            "image/png": "[encoded data removed]",
            "text/plain": [
              "<Figure size 432x288 with 1 Axes>"
            ]
          },
          "metadata": {
            "tags": [],
            "needs_background": "light"
          }
        }
      ]
    },
    {
      "cell_type": "code",
      "metadata": {
        "id": "pUEs7t564NAc",
        "outputId": "af5bbf66-c941-4e8c-f23d-75381c016299",
        "colab": {
          "base_uri": "https://localhost:8080/",
          "height": 1000
        }
      },
      "source": [
        "# Training loop\n",
        "model = Model11().to(DEVICE)\n",
        "criterion = nn.CrossEntropyLoss()\n",
        "\n",
        "lr = 1.11E-01 # Max lr from range test\n",
        "optimizer = optim.SGD(model.parameters(), lr=0.01, momentum=0.9)   #1.03E-01      #3.85E-02, 2.18E-02\n",
        "\n",
        "#scheduler = OneCycleLR(optimizer, max_lr=lr, epochs=24, steps_per_epoch=98, pct_start=0.208, anneal_strategy='linear', div_factor=10.0, final_div_factor=1.0)\n",
        "scheduler = OneCycleLR(optimizer, max_lr=lr, epochs=24, steps_per_epoch=98, pct_start=0.208, anneal_strategy='linear', div_factor=10.0)\n",
        "\n",
        "#train_loss, train_acc = train_loop(epochs, trainloader, model, DEVICE, optimizer, criterion, scheduler, True)\n",
        "train_loss, train_acc = train_onecyclelr(epochs, trainloader, model, DEVICE, optimizer, criterion, scheduler)"
      ],
      "execution_count": null,
      "outputs": [
        {
          "output_type": "stream",
          "text": [
            "Minibatch: epoch= 0 , batch= 0 , loss= 2.315810203552246 , corrects= 41 , lr= 0.011304622544119817\n",
            "Minibatch: epoch= 0 , batch= 20 , loss= 47.34205913543701 , corrects= 1986 , lr= 0.015397073426516132\n",
            "Minibatch: epoch= 0 , batch= 40 , loss= 90.31549620628357 , corrects= 5144 , lr= 0.01948952430891245\n",
            "Minibatch: epoch= 0 , batch= 60 , loss= 132.63040399551392 , corrects= 8621 , lr= 0.023581975191308766\n",
            "Minibatch: epoch= 0 , batch= 80 , loss= 174.24975037574768 , corrects= 12464 , lr= 0.027674426073705086\n",
            "[1,    98] loss: 209.507\n",
            "lr is:  0.031153009323741952\n",
            "Minibatch: epoch= 1 , batch= 0 , loss= 2.0709736347198486 , corrects= 198 , lr= 0.03135763186786177\n",
            "Minibatch: epoch= 1 , batch= 20 , loss= 43.13571643829346 , corrects= 4330 , lr= 0.035450082750258086\n",
            "Minibatch: epoch= 1 , batch= 40 , loss= 83.9924829006195 , corrects= 8555 , lr= 0.0395425336326544\n",
            "Minibatch: epoch= 1 , batch= 60 , loss= 124.64026880264282 , corrects= 12899 , lr= 0.04363498451505072\n",
            "Minibatch: epoch= 1 , batch= 80 , loss= 165.14214408397675 , corrects= 17295 , lr= 0.04772743539744704\n",
            "[2,    98] loss: 199.306\n",
            "lr is:  0.051206018647483906\n",
            "Minibatch: epoch= 2 , batch= 0 , loss= 1.9957324266433716 , corrects= 241 , lr= 0.05141064119160372\n",
            "Minibatch: epoch= 2 , batch= 20 , loss= 42.123228669166565 , corrects= 4866 , lr= 0.05550309207400004\n",
            "Minibatch: epoch= 2 , batch= 40 , loss= 82.02669632434845 , corrects= 9616 , lr= 0.05959554295639635\n",
            "Minibatch: epoch= 2 , batch= 60 , loss= 121.62651586532593 , corrects= 14516 , lr= 0.06368799383879267\n",
            "Minibatch: epoch= 2 , batch= 80 , loss= 161.07448387145996 , corrects= 19481 , lr= 0.06778044472118899\n",
            "[3,    98] loss: 194.466\n",
            "lr is:  0.07125902797122587\n",
            "Minibatch: epoch= 3 , batch= 0 , loss= 1.9561187028884888 , corrects= 257 , lr= 0.07146365051534567\n",
            "Minibatch: epoch= 3 , batch= 20 , loss= 41.0935138463974 , corrects= 5391 , lr= 0.07555610139774199\n",
            "Minibatch: epoch= 3 , batch= 40 , loss= 80.19135284423828 , corrects= 10529 , lr= 0.0796485522801383\n",
            "Minibatch: epoch= 3 , batch= 60 , loss= 119.14698338508606 , corrects= 15754 , lr= 0.08374100316253462\n",
            "Minibatch: epoch= 3 , batch= 80 , loss= 157.93673074245453 , corrects= 21070 , lr= 0.08783345404493094\n",
            "[4,    98] loss: 190.787\n",
            "lr is:  0.09131203729496781\n",
            "Minibatch: epoch= 4 , batch= 0 , loss= 1.9219993352890015 , corrects= 278 , lr= 0.09151665983908762\n",
            "Minibatch: epoch= 4 , batch= 20 , loss= 40.60713756084442 , corrects= 5657 , lr= 0.09560911072148394\n",
            "Minibatch: epoch= 4 , batch= 40 , loss= 79.0837676525116 , corrects= 11124 , lr= 0.09970156160388026\n",
            "Minibatch: epoch= 4 , batch= 60 , loss= 116.75284659862518 , corrects= 17024 , lr= 0.10379401248627658\n",
            "Minibatch: epoch= 4 , batch= 80 , loss= 154.09091317653656 , corrects= 23089 , lr= 0.1078864633686729\n",
            "[5,    98] loss: 185.466\n",
            "lr is:  0.11089369566210575\n",
            "Minibatch: epoch= 5 , batch= 0 , loss= 1.8171262741088867 , corrects= 330 , lr= 0.11083410802875696\n",
            "Minibatch: epoch= 5 , batch= 20 , loss= 39.20765292644501 , corrects= 6353 , lr= 0.10964235536178107\n",
            "Minibatch: epoch= 5 , batch= 40 , loss= 76.26952385902405 , corrects= 12562 , lr= 0.10845060269480519\n",
            "Minibatch: epoch= 5 , batch= 60 , loss= 113.21822690963745 , corrects= 18833 , lr= 0.10725885002782931\n",
            "Minibatch: epoch= 5 , batch= 80 , loss= 149.969939827919 , corrects= 25196 , lr= 0.10606709736085343\n",
            "[6,    98] loss: 181.322\n",
            "lr is:  0.10505410759392393\n",
            "Minibatch: epoch= 6 , batch= 0 , loss= 1.8165608644485474 , corrects= 328 , lr= 0.10499451996057514\n",
            "Minibatch: epoch= 6 , batch= 20 , loss= 38.46662187576294 , corrects= 6754 , lr= 0.10380276729359926\n",
            "Minibatch: epoch= 6 , batch= 40 , loss= 74.95527637004852 , corrects= 13245 , lr= 0.10261101462662338\n",
            "Minibatch: epoch= 6 , batch= 60 , loss= 111.66287863254547 , corrects= 19613 , lr= 0.1014192619596475\n",
            "Minibatch: epoch= 6 , batch= 80 , loss= 148.17983651161194 , corrects= 26093 , lr= 0.10022750929267162\n",
            "[7,    98] loss: 179.160\n",
            "lr is:  0.09921451952574212\n",
            "Minibatch: epoch= 7 , batch= 0 , loss= 1.8201948404312134 , corrects= 329 , lr= 0.09915493189239333\n",
            "Minibatch: epoch= 7 , batch= 20 , loss= 38.186367869377136 , corrects= 6894 , lr= 0.09796317922541745\n",
            "Minibatch: epoch= 7 , batch= 40 , loss= 74.581099152565 , corrects= 13452 , lr= 0.09677142655844156\n",
            "Minibatch: epoch= 7 , batch= 60 , loss= 110.85998106002808 , corrects= 20067 , lr= 0.09557967389146568\n",
            "Minibatch: epoch= 7 , batch= 80 , loss= 146.91543757915497 , corrects= 26783 , lr= 0.0943879212244898\n",
            "[8,    98] loss: 177.655\n",
            "lr is:  0.09337493145756029\n",
            "Minibatch: epoch= 8 , batch= 0 , loss= 1.8218494653701782 , corrects= 324 , lr= 0.0933153438242115\n",
            "Minibatch: epoch= 8 , batch= 20 , loss= 37.94789183139801 , corrects= 7007 , lr= 0.09212359115723562\n",
            "Minibatch: epoch= 8 , batch= 40 , loss= 74.10474741458893 , corrects= 13676 , lr= 0.09093183849025974\n",
            "Minibatch: epoch= 8 , batch= 60 , loss= 109.9978905916214 , corrects= 20482 , lr= 0.08974008582328385\n",
            "Minibatch: epoch= 8 , batch= 80 , loss= 146.27159345149994 , corrects= 27099 , lr= 0.08854833315630797\n",
            "[9,    98] loss: 176.954\n",
            "lr is:  0.08753534338937848\n",
            "Minibatch: epoch= 9 , batch= 0 , loss= 1.8179566860198975 , corrects= 329 , lr= 0.08747575575602969\n",
            "Minibatch: epoch= 9 , batch= 20 , loss= 37.835296511650085 , corrects= 7078 , lr= 0.0862840030890538\n",
            "Minibatch: epoch= 9 , batch= 40 , loss= 73.65986847877502 , corrects= 13909 , lr= 0.08509225042207792\n",
            "Minibatch: epoch= 9 , batch= 60 , loss= 109.44903588294983 , corrects= 20774 , lr= 0.08390049775510204\n",
            "Minibatch: epoch= 9 , batch= 80 , loss= 145.33844530582428 , corrects= 27571 , lr= 0.08270874508812616\n",
            "[10,    98] loss: 175.760\n",
            "lr is:  0.08169575532119666\n",
            "Minibatch: epoch= 10 , batch= 0 , loss= 1.7976195812225342 , corrects= 339 , lr= 0.08163616768784787\n",
            "Minibatch: epoch= 10 , batch= 20 , loss= 37.509703159332275 , corrects= 7252 , lr= 0.08044441502087198\n",
            "Minibatch: epoch= 10 , batch= 40 , loss= 73.21223247051239 , corrects= 14156 , lr= 0.07925266235389611\n",
            "Minibatch: epoch= 10 , batch= 60 , loss= 108.93643498420715 , corrects= 21047 , lr= 0.07806090968692023\n",
            "Minibatch: epoch= 10 , batch= 80 , loss= 144.65213477611542 , corrects= 27949 , lr= 0.07686915701994435\n",
            "[11,    98] loss: 174.930\n",
            "lr is:  0.07585616725301483\n",
            "Minibatch: epoch= 11 , batch= 0 , loss= 1.7467869520187378 , corrects= 365 , lr= 0.07579657961966604\n",
            "Minibatch: epoch= 11 , batch= 20 , loss= 37.1714985370636 , corrects= 7406 , lr= 0.07460482695269016\n",
            "Minibatch: epoch= 11 , batch= 40 , loss= 72.68528270721436 , corrects= 14412 , lr= 0.07341307428571428\n",
            "Minibatch: epoch= 11 , batch= 60 , loss= 108.28658437728882 , corrects= 21364 , lr= 0.0722213216187384\n",
            "Minibatch: epoch= 11 , batch= 80 , loss= 143.87646305561066 , corrects= 28332 , lr= 0.07102956895176252\n",
            "[12,    98] loss: 174.145\n",
            "lr is:  0.07001657918483303\n",
            "Minibatch: epoch= 12 , batch= 0 , loss= 1.7758307456970215 , corrects= 349 , lr= 0.06995699155148423\n",
            "Minibatch: epoch= 12 , batch= 20 , loss= 37.262601256370544 , corrects= 7363 , lr= 0.06876523888450833\n",
            "Minibatch: epoch= 12 , batch= 40 , loss= 72.78685009479523 , corrects= 14370 , lr= 0.06757348621753247\n",
            "Minibatch: epoch= 12 , batch= 60 , loss= 108.0933997631073 , corrects= 21489 , lr= 0.06638173355055658\n",
            "Minibatch: epoch= 12 , batch= 80 , loss= 143.41996943950653 , corrects= 28588 , lr= 0.0651899808835807\n",
            "[13,    98] loss: 173.619\n",
            "lr is:  0.0641769911166512\n",
            "Minibatch: epoch= 13 , batch= 0 , loss= 1.756590723991394 , corrects= 358 , lr= 0.06411740348330242\n",
            "Minibatch: epoch= 13 , batch= 20 , loss= 37.016557455062866 , corrects= 7503 , lr= 0.06292565081632653\n",
            "Minibatch: epoch= 13 , batch= 40 , loss= 72.15810322761536 , corrects= 14706 , lr= 0.061733898149350645\n",
            "Minibatch: epoch= 13 , batch= 60 , loss= 107.6278246641159 , corrects= 21725 , lr= 0.06054214548237477\n",
            "Minibatch: epoch= 13 , batch= 80 , loss= 142.92803692817688 , corrects= 28831 , lr= 0.05935039281539888\n",
            "[14,    98] loss: 172.916\n",
            "lr is:  0.058337403048469384\n",
            "Minibatch: epoch= 14 , batch= 0 , loss= 1.7461764812469482 , corrects= 367 , lr= 0.058277815415120594\n",
            "Minibatch: epoch= 14 , batch= 20 , loss= 37.066211104393005 , corrects= 7469 , lr= 0.057086062748144706\n",
            "Minibatch: epoch= 14 , batch= 40 , loss= 72.26290833950043 , corrects= 14634 , lr= 0.05589431008116883\n",
            "Minibatch: epoch= 14 , batch= 60 , loss= 107.46422266960144 , corrects= 21782 , lr= 0.05470255741419295\n",
            "Minibatch: epoch= 14 , batch= 80 , loss= 142.75914764404297 , corrects= 28890 , lr= 0.05351080474721707\n",
            "[15,    98] loss: 172.529\n",
            "lr is:  0.05249781498028756\n",
            "Minibatch: epoch= 15 , batch= 0 , loss= 1.7533270120620728 , corrects= 362 , lr= 0.05243822734693877\n",
            "Minibatch: epoch= 15 , batch= 20 , loss= 36.792648911476135 , corrects= 7611 , lr= 0.05124647467996289\n",
            "Minibatch: epoch= 15 , batch= 40 , loss= 71.81371653079987 , corrects= 14876 , lr= 0.050054722012987\n",
            "Minibatch: epoch= 15 , batch= 60 , loss= 107.01451349258423 , corrects= 22045 , lr= 0.04886296934601113\n",
            "Minibatch: epoch= 15 , batch= 80 , loss= 141.97013068199158 , corrects= 29334 , lr= 0.04767121667903525\n",
            "[16,    98] loss: 171.894\n",
            "lr is:  0.04665822691210575\n",
            "Minibatch: epoch= 16 , batch= 0 , loss= 1.714609146118164 , corrects= 381 , lr= 0.046598639278756945\n",
            "Minibatch: epoch= 16 , batch= 20 , loss= 36.654154539108276 , corrects= 7682 , lr= 0.04540688661178108\n",
            "Minibatch: epoch= 16 , batch= 40 , loss= 71.42073178291321 , corrects= 15078 , lr= 0.044215133944805196\n",
            "Minibatch: epoch= 16 , batch= 60 , loss= 106.31397354602814 , corrects= 22394 , lr= 0.043023381277829315\n",
            "Minibatch: epoch= 16 , batch= 80 , loss= 141.37808907032013 , corrects= 29626 , lr= 0.04183162861085343\n",
            "[17,    98] loss: 171.085\n",
            "lr is:  0.04081863884392392\n",
            "Minibatch: epoch= 17 , batch= 0 , loss= 1.7367216348648071 , corrects= 369 , lr= 0.04075905121057513\n",
            "Minibatch: epoch= 17 , batch= 20 , loss= 36.61782455444336 , corrects= 7701 , lr= 0.039567298543599264\n",
            "Minibatch: epoch= 17 , batch= 40 , loss= 71.2990700006485 , corrects= 15133 , lr= 0.03837554587662337\n",
            "Minibatch: epoch= 17 , batch= 60 , loss= 105.78789365291595 , corrects= 22669 , lr= 0.03718379320964749\n",
            "Minibatch: epoch= 17 , batch= 80 , loss= 139.6290031671524 , corrects= 30548 , lr= 0.035992040542671605\n",
            "[18,    98] loss: 168.177\n",
            "lr is:  0.03497905077574212\n",
            "Minibatch: epoch= 18 , batch= 0 , loss= 1.6716071367263794 , corrects= 403 , lr= 0.03491946314239332\n",
            "Minibatch: epoch= 18 , batch= 20 , loss= 35.185906529426575 , corrects= 8453 , lr= 0.033727710475417436\n",
            "Minibatch: epoch= 18 , batch= 40 , loss= 68.58219993114471 , corrects= 16546 , lr= 0.032535957808441554\n",
            "Minibatch: epoch= 18 , batch= 60 , loss= 101.79192459583282 , corrects= 24739 , lr= 0.03134420514146567\n",
            "Minibatch: epoch= 18 , batch= 80 , loss= 134.92999744415283 , corrects= 32975 , lr= 0.030152452474489805\n",
            "[19,    98] loss: 163.199\n",
            "lr is:  0.029139462707560293\n",
            "Minibatch: epoch= 19 , batch= 0 , loss= 1.6509872674942017 , corrects= 414 , lr= 0.029079875074211503\n",
            "Minibatch: epoch= 19 , batch= 20 , loss= 34.80763041973114 , corrects= 8637 , lr= 0.02788812240723562\n",
            "Minibatch: epoch= 19 , batch= 40 , loss= 67.89775323867798 , corrects= 16899 , lr= 0.026696369740259726\n",
            "Minibatch: epoch= 19 , batch= 60 , loss= 101.00007402896881 , corrects= 25156 , lr= 0.02550461707328386\n",
            "Minibatch: epoch= 19 , batch= 80 , loss= 133.9964907169342 , corrects= 33460 , lr= 0.024312864406307977\n",
            "[20,    98] loss: 162.045\n",
            "lr is:  0.02329987463937848\n",
            "Minibatch: epoch= 20 , batch= 0 , loss= 1.6707653999328613 , corrects= 405 , lr= 0.023240287006029675\n",
            "Minibatch: epoch= 20 , batch= 20 , loss= 34.50554072856903 , corrects= 8800 , lr= 0.022048534339053794\n",
            "Minibatch: epoch= 20 , batch= 40 , loss= 67.47273576259613 , corrects= 17117 , lr= 0.020856781672077926\n",
            "Minibatch: epoch= 20 , batch= 60 , loss= 100.41651511192322 , corrects= 25454 , lr= 0.019665029005102044\n",
            "Minibatch: epoch= 20 , batch= 80 , loss= 133.39249062538147 , corrects= 33763 , lr= 0.01847327633812615\n",
            "[21,    98] loss: 161.261\n",
            "lr is:  0.01746028657119665\n",
            "Minibatch: epoch= 21 , batch= 0 , loss= 1.6423994302749634 , corrects= 422 , lr= 0.01740069893784786\n",
            "Minibatch: epoch= 21 , batch= 20 , loss= 34.36560237407684 , corrects= 8870 , lr= 0.016208946270871993\n",
            "Minibatch: epoch= 21 , batch= 40 , loss= 67.04927182197571 , corrects= 17352 , lr= 0.015017193603896098\n",
            "Minibatch: epoch= 21 , batch= 60 , loss= 99.7467166185379 , corrects= 25819 , lr= 0.013825440936920216\n",
            "Minibatch: epoch= 21 , batch= 80 , loss= 132.5159877538681 , corrects= 34242 , lr= 0.012633688269944335\n",
            "[22,    98] loss: 160.450\n",
            "lr is:  0.01162069850301485\n",
            "Minibatch: epoch= 22 , batch= 0 , loss= 1.624541163444519 , corrects= 428 , lr= 0.011561110869666047\n",
            "Minibatch: epoch= 22 , batch= 20 , loss= 34.305193066596985 , corrects= 8905 , lr= 0.010369358202690165\n",
            "Minibatch: epoch= 22 , batch= 40 , loss= 66.97357487678528 , corrects= 17377 , lr= 0.009177605535714284\n",
            "Minibatch: epoch= 22 , batch= 60 , loss= 99.59049034118652 , corrects= 25880 , lr= 0.007985852868738402\n",
            "Minibatch: epoch= 22 , batch= 80 , loss= 132.17395317554474 , corrects= 34381 , lr= 0.006794100201762521\n",
            "[23,    98] loss: 159.869\n",
            "lr is:  0.005781110434833023\n",
            "Minibatch: epoch= 23 , batch= 0 , loss= 1.6230632066726685 , corrects= 430 , lr= 0.005721522801484233\n",
            "Minibatch: epoch= 23 , batch= 20 , loss= 34.219099283218384 , corrects= 8938 , lr= 0.004529770134508351\n",
            "Minibatch: epoch= 23 , batch= 40 , loss= 66.7431663274765 , corrects= 17488 , lr= 0.003338017467532456\n",
            "Minibatch: epoch= 23 , batch= 60 , loss= 99.24068629741669 , corrects= 26052 , lr= 0.002146264800556588\n",
            "Minibatch: epoch= 23 , batch= 80 , loss= 131.59611654281616 , corrects= 34697 , lr= 0.0009545121335807066\n",
            "[24,    98] loss: 159.289\n",
            "lr is:  -5.84776333487913e-05\n"
          ],
          "name": "stdout"
        }
      ]
    },
    {
      "cell_type": "code",
      "metadata": {
        "id": "ywPrxHyZNUa_",
        "outputId": "8ca72e92-5351-4a3d-c335-faf26bc89d23",
        "colab": {
          "base_uri": "https://localhost:8080/",
          "height": 208
        }
      },
      "source": [
        "# Test Loop\n",
        "\n",
        "test_loss, test_acc = test_loop(testloader, model, DEVICE, criterion)\n",
        "accuracy_per_class(model, classes, testloader, DEVICE)"
      ],
      "execution_count": null,
      "outputs": [
        {
          "output_type": "stream",
          "text": [
            "Accuracy of the network on the 10000 test images: 80 %, Test loss: 348.1222438812256\n",
            "Accuracy of plane : 100 %\n",
            "Accuracy of   car : 93 %\n",
            "Accuracy of  bird :  0 %\n",
            "Accuracy of   cat : 66 %\n",
            "Accuracy of  deer : 100 %\n",
            "Accuracy of   dog : 90 %\n",
            "Accuracy of  frog : 100 %\n",
            "Accuracy of horse : 83 %\n",
            "Accuracy of  ship : 87 %\n",
            "Accuracy of truck : 87 %\n"
          ],
          "name": "stdout"
        }
      ]
    },
    {
      "cell_type": "code",
      "metadata": {
        "id": "0Zsx4oNjA9PV"
      },
      "source": [
        ""
      ],
      "execution_count": null,
      "outputs": []
    }
  ]
}