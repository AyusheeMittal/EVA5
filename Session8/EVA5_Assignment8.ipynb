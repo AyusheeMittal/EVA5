{
  "nbformat": 4,
  "nbformat_minor": 0,
  "metadata": {
    "colab": {
      "name": "EVA5-Assignment8.ipynb",
      "provenance": [],
      "collapsed_sections": [],
      "authorship_tag": "ABX9TyNEIIGSEs+KAk+i04dENgMp",
      "include_colab_link": true
    },
    "kernelspec": {
      "name": "python3",
      "display_name": "Python 3"
    },
    "accelerator": "GPU",
    "widgets": {
      "application/vnd.jupyter.widget-state+json": {
        "6857c20550454900893edcc2ad348fb4": {
          "model_module": "@jupyter-widgets/controls",
          "model_name": "HBoxModel",
          "state": {
            "_view_name": "HBoxView",
            "_dom_classes": [],
            "_model_name": "HBoxModel",
            "_view_module": "@jupyter-widgets/controls",
            "_model_module_version": "1.5.0",
            "_view_count": null,
            "_view_module_version": "1.5.0",
            "box_style": "",
            "layout": "IPY_MODEL_49e52e9c3b2f4b5380fcff0d7659b9a3",
            "_model_module": "@jupyter-widgets/controls",
            "children": [
              "IPY_MODEL_e299a460de7c4d03ac6640616304cbb9",
              "IPY_MODEL_614c6223a6c246d89dcb9ab8255f1dc0"
            ]
          }
        },
        "49e52e9c3b2f4b5380fcff0d7659b9a3": {
          "model_module": "@jupyter-widgets/base",
          "model_name": "LayoutModel",
          "state": {
            "_view_name": "LayoutView",
            "grid_template_rows": null,
            "right": null,
            "justify_content": null,
            "_view_module": "@jupyter-widgets/base",
            "overflow": null,
            "_model_module_version": "1.2.0",
            "_view_count": null,
            "flex_flow": null,
            "width": null,
            "min_width": null,
            "border": null,
            "align_items": null,
            "bottom": null,
            "_model_module": "@jupyter-widgets/base",
            "top": null,
            "grid_column": null,
            "overflow_y": null,
            "overflow_x": null,
            "grid_auto_flow": null,
            "grid_area": null,
            "grid_template_columns": null,
            "flex": null,
            "_model_name": "LayoutModel",
            "justify_items": null,
            "grid_row": null,
            "max_height": null,
            "align_content": null,
            "visibility": null,
            "align_self": null,
            "height": null,
            "min_height": null,
            "padding": null,
            "grid_auto_rows": null,
            "grid_gap": null,
            "max_width": null,
            "order": null,
            "_view_module_version": "1.2.0",
            "grid_template_areas": null,
            "object_position": null,
            "object_fit": null,
            "grid_auto_columns": null,
            "margin": null,
            "display": null,
            "left": null
          }
        },
        "e299a460de7c4d03ac6640616304cbb9": {
          "model_module": "@jupyter-widgets/controls",
          "model_name": "FloatProgressModel",
          "state": {
            "_view_name": "ProgressView",
            "style": "IPY_MODEL_229317045b204b12b0509fb24538ba38",
            "_dom_classes": [],
            "description": "",
            "_model_name": "FloatProgressModel",
            "bar_style": "info",
            "max": 1,
            "_view_module": "@jupyter-widgets/controls",
            "_model_module_version": "1.5.0",
            "value": 1,
            "_view_count": null,
            "_view_module_version": "1.5.0",
            "orientation": "horizontal",
            "min": 0,
            "description_tooltip": null,
            "_model_module": "@jupyter-widgets/controls",
            "layout": "IPY_MODEL_3a86fbb51e8f48838b183c4b3af78b51"
          }
        },
        "614c6223a6c246d89dcb9ab8255f1dc0": {
          "model_module": "@jupyter-widgets/controls",
          "model_name": "HTMLModel",
          "state": {
            "_view_name": "HTMLView",
            "style": "IPY_MODEL_b1bc2449b5154e26a75ff3cbe8125f80",
            "_dom_classes": [],
            "description": "",
            "_model_name": "HTMLModel",
            "placeholder": "​",
            "_view_module": "@jupyter-widgets/controls",
            "_model_module_version": "1.5.0",
            "value": " 170500096/? [00:20&lt;00:00, 32990148.21it/s]",
            "_view_count": null,
            "_view_module_version": "1.5.0",
            "description_tooltip": null,
            "_model_module": "@jupyter-widgets/controls",
            "layout": "IPY_MODEL_468af969d22b483ead41a4e9433e5260"
          }
        },
        "229317045b204b12b0509fb24538ba38": {
          "model_module": "@jupyter-widgets/controls",
          "model_name": "ProgressStyleModel",
          "state": {
            "_view_name": "StyleView",
            "_model_name": "ProgressStyleModel",
            "description_width": "initial",
            "_view_module": "@jupyter-widgets/base",
            "_model_module_version": "1.5.0",
            "_view_count": null,
            "_view_module_version": "1.2.0",
            "bar_color": null,
            "_model_module": "@jupyter-widgets/controls"
          }
        },
        "3a86fbb51e8f48838b183c4b3af78b51": {
          "model_module": "@jupyter-widgets/base",
          "model_name": "LayoutModel",
          "state": {
            "_view_name": "LayoutView",
            "grid_template_rows": null,
            "right": null,
            "justify_content": null,
            "_view_module": "@jupyter-widgets/base",
            "overflow": null,
            "_model_module_version": "1.2.0",
            "_view_count": null,
            "flex_flow": null,
            "width": null,
            "min_width": null,
            "border": null,
            "align_items": null,
            "bottom": null,
            "_model_module": "@jupyter-widgets/base",
            "top": null,
            "grid_column": null,
            "overflow_y": null,
            "overflow_x": null,
            "grid_auto_flow": null,
            "grid_area": null,
            "grid_template_columns": null,
            "flex": null,
            "_model_name": "LayoutModel",
            "justify_items": null,
            "grid_row": null,
            "max_height": null,
            "align_content": null,
            "visibility": null,
            "align_self": null,
            "height": null,
            "min_height": null,
            "padding": null,
            "grid_auto_rows": null,
            "grid_gap": null,
            "max_width": null,
            "order": null,
            "_view_module_version": "1.2.0",
            "grid_template_areas": null,
            "object_position": null,
            "object_fit": null,
            "grid_auto_columns": null,
            "margin": null,
            "display": null,
            "left": null
          }
        },
        "b1bc2449b5154e26a75ff3cbe8125f80": {
          "model_module": "@jupyter-widgets/controls",
          "model_name": "DescriptionStyleModel",
          "state": {
            "_view_name": "StyleView",
            "_model_name": "DescriptionStyleModel",
            "description_width": "",
            "_view_module": "@jupyter-widgets/base",
            "_model_module_version": "1.5.0",
            "_view_count": null,
            "_view_module_version": "1.2.0",
            "_model_module": "@jupyter-widgets/controls"
          }
        },
        "468af969d22b483ead41a4e9433e5260": {
          "model_module": "@jupyter-widgets/base",
          "model_name": "LayoutModel",
          "state": {
            "_view_name": "LayoutView",
            "grid_template_rows": null,
            "right": null,
            "justify_content": null,
            "_view_module": "@jupyter-widgets/base",
            "overflow": null,
            "_model_module_version": "1.2.0",
            "_view_count": null,
            "flex_flow": null,
            "width": null,
            "min_width": null,
            "border": null,
            "align_items": null,
            "bottom": null,
            "_model_module": "@jupyter-widgets/base",
            "top": null,
            "grid_column": null,
            "overflow_y": null,
            "overflow_x": null,
            "grid_auto_flow": null,
            "grid_area": null,
            "grid_template_columns": null,
            "flex": null,
            "_model_name": "LayoutModel",
            "justify_items": null,
            "grid_row": null,
            "max_height": null,
            "align_content": null,
            "visibility": null,
            "align_self": null,
            "height": null,
            "min_height": null,
            "padding": null,
            "grid_auto_rows": null,
            "grid_gap": null,
            "max_width": null,
            "order": null,
            "_view_module_version": "1.2.0",
            "grid_template_areas": null,
            "object_position": null,
            "object_fit": null,
            "grid_auto_columns": null,
            "margin": null,
            "display": null,
            "left": null
          }
        }
      }
    }
  },
  "cells": [
    {
      "cell_type": "markdown",
      "metadata": {
        "id": "view-in-github",
        "colab_type": "text"
      },
      "source": [
        "<a href=\"https://colab.research.google.com/github/avneesh-nolkha/EVA5/blob/master/Session8/EVA5_Assignment8.ipynb\" target=\"_parent\"><img src=\"https://colab.research.google.com/assets/colab-badge.svg\" alt=\"Open In Colab\"/></a>"
      ]
    },
    {
      "cell_type": "code",
      "metadata": {
        "id": "X6WIR4S0tcMB",
        "colab_type": "code",
        "colab": {
          "base_uri": "https://localhost:8080/",
          "height": 119
        },
        "outputId": "0eebad20-b706-4b5e-b687-0f708d3f6513"
      },
      "source": [
        "!git clone https://github.com/smitasasindran/eva5utils.git"
      ],
      "execution_count": 1,
      "outputs": [
        {
          "output_type": "stream",
          "text": [
            "Cloning into 'eva5utils'...\n",
            "remote: Enumerating objects: 38, done.\u001b[K\n",
            "remote: Counting objects: 100% (38/38), done.\u001b[K\n",
            "remote: Compressing objects: 100% (31/31), done.\u001b[K\n",
            "remote: Total 38 (delta 5), reused 27 (delta 1), pack-reused 0\u001b[K\n",
            "Unpacking objects: 100% (38/38), done.\n"
          ],
          "name": "stdout"
        }
      ]
    },
    {
      "cell_type": "code",
      "metadata": {
        "id": "07SBfmTwoo8-",
        "colab_type": "code",
        "colab": {
          "base_uri": "https://localhost:8080/",
          "height": 34
        },
        "outputId": "18d63e89-fe3b-48fa-b0f8-c5cc09074b86"
      },
      "source": [
        "%cd eva5utils"
      ],
      "execution_count": 2,
      "outputs": [
        {
          "output_type": "stream",
          "text": [
            "/content/eva5utils\n"
          ],
          "name": "stdout"
        }
      ]
    },
    {
      "cell_type": "code",
      "metadata": {
        "id": "Fj1XxzjNoseR",
        "colab_type": "code",
        "colab": {
          "base_uri": "https://localhost:8080/",
          "height": 34
        },
        "outputId": "5e0e862b-bb6a-4e0a-9ba3-180fdfc06e14"
      },
      "source": [
        "!ls"
      ],
      "execution_count": 3,
      "outputs": [
        {
          "output_type": "stream",
          "text": [
            "config\tdataloaders  main.py  model  test  train  transforms  utils\n"
          ],
          "name": "stdout"
        }
      ]
    },
    {
      "cell_type": "code",
      "metadata": {
        "id": "R9sa5pwuowE3",
        "colab_type": "code",
        "colab": {
          "base_uri": "https://localhost:8080/",
          "height": 1000,
          "referenced_widgets": [
            "6857c20550454900893edcc2ad348fb4",
            "49e52e9c3b2f4b5380fcff0d7659b9a3",
            "e299a460de7c4d03ac6640616304cbb9",
            "614c6223a6c246d89dcb9ab8255f1dc0",
            "229317045b204b12b0509fb24538ba38",
            "3a86fbb51e8f48838b183c4b3af78b51",
            "b1bc2449b5154e26a75ff3cbe8125f80",
            "468af969d22b483ead41a4e9433e5260"
          ]
        },
        "outputId": "a70a67cc-1265-4ed2-b60f-e74da19fc20a"
      },
      "source": [
        "from model import Model7, ResNet18\n",
        "from utils.helpers import show_model_summary, DEVICE, IS_CUDA, accuracy_per_class\n",
        "from dataloaders import dataloaders\n",
        "from transforms import model7_transforms\n",
        "from utils import plot_samples\n",
        "from train import train_loop\n",
        "from test import test_loop\n",
        "import torch.optim as optim\n",
        "import torch.nn as nn\n",
        "from torch.optim.lr_scheduler import StepLR\n",
        "from utils.helpers import accuracy_per_class\n",
        "\n",
        "model = ResNet18()\n",
        "show_model_summary(model.to(DEVICE), (3, 32, 32))\n",
        "\n",
        "# Constants, put in config\n",
        "epochs = 100\n",
        "cuda_batch_size=128\n",
        "cpu_batch_size = 4\n",
        "num_workers = 4\n",
        "\n",
        "transforms = model7_transforms()\n",
        "(train_loader, test_loader, classes) = dataloaders.load_cifar10(transforms, cuda_batch_size, cpu_batch_size, num_workers)\n",
        "\n",
        "plot_samples(train_loader)\n",
        "\n",
        "criterion = nn.CrossEntropyLoss()\n",
        "optimizer = optim.SGD(model.parameters(), lr=0.1, momentum=0.9)\n",
        "scheduler = StepLR(optimizer, step_size=30, gamma=.1)"
      ],
      "execution_count": 4,
      "outputs": [
        {
          "output_type": "stream",
          "text": [
            "----------------------------------------------------------------\n",
            "        Layer (type)               Output Shape         Param #\n",
            "================================================================\n",
            "            Conv2d-1           [-1, 64, 32, 32]           1,728\n",
            "       BatchNorm2d-2           [-1, 64, 32, 32]             128\n",
            "            Conv2d-3           [-1, 64, 32, 32]          36,864\n",
            "       BatchNorm2d-4           [-1, 64, 32, 32]             128\n",
            "            Conv2d-5           [-1, 64, 32, 32]          36,864\n",
            "       BatchNorm2d-6           [-1, 64, 32, 32]             128\n",
            "        BasicBlock-7           [-1, 64, 32, 32]               0\n",
            "            Conv2d-8           [-1, 64, 32, 32]          36,864\n",
            "       BatchNorm2d-9           [-1, 64, 32, 32]             128\n",
            "           Conv2d-10           [-1, 64, 32, 32]          36,864\n",
            "      BatchNorm2d-11           [-1, 64, 32, 32]             128\n",
            "       BasicBlock-12           [-1, 64, 32, 32]               0\n",
            "           Conv2d-13          [-1, 128, 16, 16]          73,728\n",
            "      BatchNorm2d-14          [-1, 128, 16, 16]             256\n",
            "           Conv2d-15          [-1, 128, 16, 16]         147,456\n",
            "      BatchNorm2d-16          [-1, 128, 16, 16]             256\n",
            "           Conv2d-17          [-1, 128, 16, 16]           8,192\n",
            "      BatchNorm2d-18          [-1, 128, 16, 16]             256\n",
            "       BasicBlock-19          [-1, 128, 16, 16]               0\n",
            "           Conv2d-20          [-1, 128, 16, 16]         147,456\n",
            "      BatchNorm2d-21          [-1, 128, 16, 16]             256\n",
            "           Conv2d-22          [-1, 128, 16, 16]         147,456\n",
            "      BatchNorm2d-23          [-1, 128, 16, 16]             256\n",
            "       BasicBlock-24          [-1, 128, 16, 16]               0\n",
            "           Conv2d-25            [-1, 256, 8, 8]         294,912\n",
            "      BatchNorm2d-26            [-1, 256, 8, 8]             512\n",
            "           Conv2d-27            [-1, 256, 8, 8]         589,824\n",
            "      BatchNorm2d-28            [-1, 256, 8, 8]             512\n",
            "           Conv2d-29            [-1, 256, 8, 8]          32,768\n",
            "      BatchNorm2d-30            [-1, 256, 8, 8]             512\n",
            "       BasicBlock-31            [-1, 256, 8, 8]               0\n",
            "           Conv2d-32            [-1, 256, 8, 8]         589,824\n",
            "      BatchNorm2d-33            [-1, 256, 8, 8]             512\n",
            "           Conv2d-34            [-1, 256, 8, 8]         589,824\n",
            "      BatchNorm2d-35            [-1, 256, 8, 8]             512\n",
            "       BasicBlock-36            [-1, 256, 8, 8]               0\n",
            "           Conv2d-37            [-1, 512, 4, 4]       1,179,648\n",
            "      BatchNorm2d-38            [-1, 512, 4, 4]           1,024\n",
            "           Conv2d-39            [-1, 512, 4, 4]       2,359,296\n",
            "      BatchNorm2d-40            [-1, 512, 4, 4]           1,024\n",
            "           Conv2d-41            [-1, 512, 4, 4]         131,072\n",
            "      BatchNorm2d-42            [-1, 512, 4, 4]           1,024\n",
            "       BasicBlock-43            [-1, 512, 4, 4]               0\n",
            "           Conv2d-44            [-1, 512, 4, 4]       2,359,296\n",
            "      BatchNorm2d-45            [-1, 512, 4, 4]           1,024\n",
            "           Conv2d-46            [-1, 512, 4, 4]       2,359,296\n",
            "      BatchNorm2d-47            [-1, 512, 4, 4]           1,024\n",
            "       BasicBlock-48            [-1, 512, 4, 4]               0\n",
            "           Linear-49                   [-1, 10]           5,130\n",
            "================================================================\n",
            "Total params: 11,173,962\n",
            "Trainable params: 11,173,962\n",
            "Non-trainable params: 0\n",
            "----------------------------------------------------------------\n",
            "Input size (MB): 0.01\n",
            "Forward/backward pass size (MB): 11.25\n",
            "Params size (MB): 42.63\n",
            "Estimated Total Size (MB): 53.89\n",
            "----------------------------------------------------------------\n",
            "None\n",
            "Downloading https://www.cs.toronto.edu/~kriz/cifar-10-python.tar.gz to ./data/cifar-10-python.tar.gz\n"
          ],
          "name": "stdout"
        },
        {
          "output_type": "display_data",
          "data": {
            "application/vnd.jupyter.widget-view+json": {
              "model_id": "6857c20550454900893edcc2ad348fb4",
              "version_minor": 0,
              "version_major": 2
            },
            "text/plain": [
              "HBox(children=(FloatProgress(value=1.0, bar_style='info', max=1.0), HTML(value='')))"
            ]
          },
          "metadata": {
            "tags": []
          }
        },
        {
          "output_type": "stream",
          "text": [
            "Extracting ./data/cifar-10-python.tar.gz to ./data\n",
            "Files already downloaded and verified\n"
          ],
          "name": "stdout"
        },
        {
          "output_type": "display_data",
          "data": {
            "image/png": "[encoded data removed]",
            "text/plain": [
              "<Figure size 432x288 with 1 Axes>"
            ]
          },
          "metadata": {
            "tags": [],
            "needs_background": "light"
          }
        }
      ]
    },
    {
      "cell_type": "code",
      "metadata": {
        "id": "qJlgJRJkrXPT",
        "colab_type": "code",
        "colab": {
          "base_uri": "https://localhost:8080/",
          "height": 1000
        },
        "outputId": "b9996778-7c62-4424-95c2-ae294144313c"
      },
      "source": [
        "train_loop(epochs, train_loader, model, DEVICE, optimizer, criterion, scheduler)"
      ],
      "execution_count": 5,
      "outputs": [
        {
          "output_type": "stream",
          "text": [
            "[1,   391] loss: 726.945\n",
            "[2,   391] loss: 552.026\n",
            "[3,   391] loss: 454.222\n",
            "[4,   391] loss: 384.926\n",
            "[5,   391] loss: 333.415\n",
            "[6,   391] loss: 297.568\n",
            "[7,   391] loss: 266.823\n",
            "[8,   391] loss: 239.357\n",
            "[9,   391] loss: 213.440\n",
            "[10,   391] loss: 194.803\n",
            "[11,   391] loss: 176.609\n",
            "[12,   391] loss: 162.602\n",
            "[13,   391] loss: 149.805\n",
            "[14,   391] loss: 139.368\n",
            "[15,   391] loss: 127.073\n",
            "[16,   391] loss: 120.654\n",
            "[17,   391] loss: 113.551\n",
            "[18,   391] loss: 103.836\n",
            "[19,   391] loss: 98.187\n",
            "[20,   391] loss: 90.199\n",
            "[21,   391] loss: 84.970\n",
            "[22,   391] loss: 80.153\n",
            "[23,   391] loss: 74.712\n",
            "[24,   391] loss: 69.885\n",
            "[25,   391] loss: 66.117\n",
            "[26,   391] loss: 60.056\n",
            "[27,   391] loss: 58.625\n",
            "[28,   391] loss: 53.869\n",
            "[29,   391] loss: 50.401\n",
            "[30,   391] loss: 47.789\n",
            "[31,   391] loss: 25.771\n",
            "[32,   391] loss: 19.787\n",
            "[33,   391] loss: 17.006\n",
            "[34,   391] loss: 15.449\n",
            "[35,   391] loss: 14.421\n",
            "[36,   391] loss: 12.981\n",
            "[37,   391] loss: 12.297\n",
            "[38,   391] loss: 12.107\n",
            "[39,   391] loss: 10.306\n",
            "[40,   391] loss: 10.144\n",
            "[41,   391] loss: 9.183\n",
            "[42,   391] loss: 8.676\n",
            "[43,   391] loss: 8.475\n",
            "[44,   391] loss: 8.762\n",
            "[45,   391] loss: 7.605\n",
            "[46,   391] loss: 7.531\n",
            "[47,   391] loss: 7.154\n",
            "[48,   391] loss: 7.168\n",
            "[49,   391] loss: 6.513\n",
            "[50,   391] loss: 6.487\n",
            "[51,   391] loss: 6.409\n",
            "[52,   391] loss: 5.847\n",
            "[53,   391] loss: 5.557\n",
            "[54,   391] loss: 5.271\n",
            "[55,   391] loss: 5.181\n",
            "[56,   391] loss: 4.425\n",
            "[57,   391] loss: 5.015\n",
            "[58,   391] loss: 4.650\n",
            "[59,   391] loss: 4.596\n",
            "[60,   391] loss: 4.295\n",
            "[61,   391] loss: 4.311\n",
            "[62,   391] loss: 4.145\n",
            "[63,   391] loss: 3.754\n",
            "[64,   391] loss: 3.625\n",
            "[65,   391] loss: 3.579\n",
            "[66,   391] loss: 3.689\n",
            "[67,   391] loss: 3.927\n",
            "[68,   391] loss: 3.652\n",
            "[69,   391] loss: 3.631\n",
            "[70,   391] loss: 3.744\n",
            "[71,   391] loss: 3.326\n",
            "[72,   391] loss: 3.333\n",
            "[73,   391] loss: 3.564\n",
            "[74,   391] loss: 3.372\n",
            "[75,   391] loss: 3.294\n",
            "[76,   391] loss: 3.333\n",
            "[77,   391] loss: 3.317\n",
            "[78,   391] loss: 3.156\n",
            "[79,   391] loss: 3.117\n",
            "[80,   391] loss: 3.343\n",
            "[81,   391] loss: 3.258\n",
            "[82,   391] loss: 3.256\n",
            "[83,   391] loss: 3.174\n",
            "[84,   391] loss: 3.320\n",
            "[85,   391] loss: 3.014\n",
            "[86,   391] loss: 3.237\n",
            "[87,   391] loss: 3.197\n",
            "[88,   391] loss: 3.339\n",
            "[89,   391] loss: 3.169\n",
            "[90,   391] loss: 2.977\n",
            "[91,   391] loss: 3.021\n",
            "[92,   391] loss: 3.140\n",
            "[93,   391] loss: 3.004\n",
            "[94,   391] loss: 3.137\n",
            "[95,   391] loss: 3.001\n",
            "[96,   391] loss: 3.000\n",
            "[97,   391] loss: 3.037\n",
            "[98,   391] loss: 3.021\n",
            "[99,   391] loss: 3.196\n",
            "[100,   391] loss: 2.874\n"
          ],
          "name": "stdout"
        }
      ]
    },
    {
      "cell_type": "code",
      "metadata": {
        "id": "VVQz3i1gIVGL",
        "colab_type": "code",
        "colab": {
          "base_uri": "https://localhost:8080/",
          "height": 204
        },
        "outputId": "4e530a3b-2877-400d-f381-7b270243c9ed"
      },
      "source": [
        "test_loop(test_loader, model, DEVICE, criterion)\n",
        "accuracy_per_class(model, classes, test_loader, DEVICE)"
      ],
      "execution_count": 6,
      "outputs": [
        {
          "output_type": "stream",
          "text": [
            "Accuracy of the network on the 10000 test images: 91 %, Test loss: 34.67791635543108\n",
            "Accuracy of plane : 96 %\n",
            "Accuracy of   car : 93 %\n",
            "Accuracy of  bird : 97 %\n",
            "Accuracy of   cat : 80 %\n",
            "Accuracy of  deer : 93 %\n",
            "Accuracy of   dog : 84 %\n",
            "Accuracy of  frog : 93 %\n",
            "Accuracy of horse : 100 %\n",
            "Accuracy of  ship : 88 %\n",
            "Accuracy of truck : 93 %\n"
          ],
          "name": "stdout"
        }
      ]
    }
  ]
}