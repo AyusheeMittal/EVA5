{
  "nbformat": 4,
  "nbformat_minor": 0,
  "metadata": {
    "colab": {
      "name": "EVA5-Assignment7-Modular.ipynb",
      "provenance": [],
      "collapsed_sections": []
    },
    "kernelspec": {
      "name": "python3",
      "display_name": "Python 3"
    },
    "accelerator": "GPU",
    "widgets": {
      "application/vnd.jupyter.widget-state+json": {
        "06ef83885a2e46a19bf7393b74b3d9d4": {
          "model_module": "@jupyter-widgets/controls",
          "model_name": "HBoxModel",
          "state": {
            "_view_name": "HBoxView",
            "_dom_classes": [],
            "_model_name": "HBoxModel",
            "_view_module": "@jupyter-widgets/controls",
            "_model_module_version": "1.5.0",
            "_view_count": null,
            "_view_module_version": "1.5.0",
            "box_style": "",
            "layout": "IPY_MODEL_f84e9baa95684d85865e2c8e2d1f32a1",
            "_model_module": "@jupyter-widgets/controls",
            "children": [
              "IPY_MODEL_36054e08e6c04d72be7eca66d1ebce5e",
              "IPY_MODEL_cc16e6ea7ae14b6fa34c0c49500efb54"
            ]
          }
        },
        "f84e9baa95684d85865e2c8e2d1f32a1": {
          "model_module": "@jupyter-widgets/base",
          "model_name": "LayoutModel",
          "state": {
            "_view_name": "LayoutView",
            "grid_template_rows": null,
            "right": null,
            "justify_content": null,
            "_view_module": "@jupyter-widgets/base",
            "overflow": null,
            "_model_module_version": "1.2.0",
            "_view_count": null,
            "flex_flow": null,
            "width": null,
            "min_width": null,
            "border": null,
            "align_items": null,
            "bottom": null,
            "_model_module": "@jupyter-widgets/base",
            "top": null,
            "grid_column": null,
            "overflow_y": null,
            "overflow_x": null,
            "grid_auto_flow": null,
            "grid_area": null,
            "grid_template_columns": null,
            "flex": null,
            "_model_name": "LayoutModel",
            "justify_items": null,
            "grid_row": null,
            "max_height": null,
            "align_content": null,
            "visibility": null,
            "align_self": null,
            "height": null,
            "min_height": null,
            "padding": null,
            "grid_auto_rows": null,
            "grid_gap": null,
            "max_width": null,
            "order": null,
            "_view_module_version": "1.2.0",
            "grid_template_areas": null,
            "object_position": null,
            "object_fit": null,
            "grid_auto_columns": null,
            "margin": null,
            "display": null,
            "left": null
          }
        },
        "36054e08e6c04d72be7eca66d1ebce5e": {
          "model_module": "@jupyter-widgets/controls",
          "model_name": "FloatProgressModel",
          "state": {
            "_view_name": "ProgressView",
            "style": "IPY_MODEL_2f404ae844374eeda15c785b81926442",
            "_dom_classes": [],
            "description": "",
            "_model_name": "FloatProgressModel",
            "bar_style": "success",
            "max": 1,
            "_view_module": "@jupyter-widgets/controls",
            "_model_module_version": "1.5.0",
            "value": 1,
            "_view_count": null,
            "_view_module_version": "1.5.0",
            "orientation": "horizontal",
            "min": 0,
            "description_tooltip": null,
            "_model_module": "@jupyter-widgets/controls",
            "layout": "IPY_MODEL_75ced57870294eaaaf4b9cc11b650f86"
          }
        },
        "cc16e6ea7ae14b6fa34c0c49500efb54": {
          "model_module": "@jupyter-widgets/controls",
          "model_name": "HTMLModel",
          "state": {
            "_view_name": "HTMLView",
            "style": "IPY_MODEL_131352b6833141f5b4c30436a561f4db",
            "_dom_classes": [],
            "description": "",
            "_model_name": "HTMLModel",
            "placeholder": "​",
            "_view_module": "@jupyter-widgets/controls",
            "_model_module_version": "1.5.0",
            "value": " 170500096/? [00:07&lt;00:00, 21898109.53it/s]",
            "_view_count": null,
            "_view_module_version": "1.5.0",
            "description_tooltip": null,
            "_model_module": "@jupyter-widgets/controls",
            "layout": "IPY_MODEL_68d1402d7548405f86e1a9c9367614db"
          }
        },
        "2f404ae844374eeda15c785b81926442": {
          "model_module": "@jupyter-widgets/controls",
          "model_name": "ProgressStyleModel",
          "state": {
            "_view_name": "StyleView",
            "_model_name": "ProgressStyleModel",
            "description_width": "initial",
            "_view_module": "@jupyter-widgets/base",
            "_model_module_version": "1.5.0",
            "_view_count": null,
            "_view_module_version": "1.2.0",
            "bar_color": null,
            "_model_module": "@jupyter-widgets/controls"
          }
        },
        "75ced57870294eaaaf4b9cc11b650f86": {
          "model_module": "@jupyter-widgets/base",
          "model_name": "LayoutModel",
          "state": {
            "_view_name": "LayoutView",
            "grid_template_rows": null,
            "right": null,
            "justify_content": null,
            "_view_module": "@jupyter-widgets/base",
            "overflow": null,
            "_model_module_version": "1.2.0",
            "_view_count": null,
            "flex_flow": null,
            "width": null,
            "min_width": null,
            "border": null,
            "align_items": null,
            "bottom": null,
            "_model_module": "@jupyter-widgets/base",
            "top": null,
            "grid_column": null,
            "overflow_y": null,
            "overflow_x": null,
            "grid_auto_flow": null,
            "grid_area": null,
            "grid_template_columns": null,
            "flex": null,
            "_model_name": "LayoutModel",
            "justify_items": null,
            "grid_row": null,
            "max_height": null,
            "align_content": null,
            "visibility": null,
            "align_self": null,
            "height": null,
            "min_height": null,
            "padding": null,
            "grid_auto_rows": null,
            "grid_gap": null,
            "max_width": null,
            "order": null,
            "_view_module_version": "1.2.0",
            "grid_template_areas": null,
            "object_position": null,
            "object_fit": null,
            "grid_auto_columns": null,
            "margin": null,
            "display": null,
            "left": null
          }
        },
        "131352b6833141f5b4c30436a561f4db": {
          "model_module": "@jupyter-widgets/controls",
          "model_name": "DescriptionStyleModel",
          "state": {
            "_view_name": "StyleView",
            "_model_name": "DescriptionStyleModel",
            "description_width": "",
            "_view_module": "@jupyter-widgets/base",
            "_model_module_version": "1.5.0",
            "_view_count": null,
            "_view_module_version": "1.2.0",
            "_model_module": "@jupyter-widgets/controls"
          }
        },
        "68d1402d7548405f86e1a9c9367614db": {
          "model_module": "@jupyter-widgets/base",
          "model_name": "LayoutModel",
          "state": {
            "_view_name": "LayoutView",
            "grid_template_rows": null,
            "right": null,
            "justify_content": null,
            "_view_module": "@jupyter-widgets/base",
            "overflow": null,
            "_model_module_version": "1.2.0",
            "_view_count": null,
            "flex_flow": null,
            "width": null,
            "min_width": null,
            "border": null,
            "align_items": null,
            "bottom": null,
            "_model_module": "@jupyter-widgets/base",
            "top": null,
            "grid_column": null,
            "overflow_y": null,
            "overflow_x": null,
            "grid_auto_flow": null,
            "grid_area": null,
            "grid_template_columns": null,
            "flex": null,
            "_model_name": "LayoutModel",
            "justify_items": null,
            "grid_row": null,
            "max_height": null,
            "align_content": null,
            "visibility": null,
            "align_self": null,
            "height": null,
            "min_height": null,
            "padding": null,
            "grid_auto_rows": null,
            "grid_gap": null,
            "max_width": null,
            "order": null,
            "_view_module_version": "1.2.0",
            "grid_template_areas": null,
            "object_position": null,
            "object_fit": null,
            "grid_auto_columns": null,
            "margin": null,
            "display": null,
            "left": null
          }
        }
      }
    }
  },
  "cells": [
    {
      "cell_type": "markdown",
      "metadata": {
        "id": "RanlA1utyeIX",
        "colab_type": "text"
      },
      "source": [
        "### **Loading the common repo**"
      ]
    },
    {
      "cell_type": "code",
      "metadata": {
        "id": "cXz2uod0uJpP",
        "colab_type": "code",
        "colab": {
          "base_uri": "https://localhost:8080/",
          "height": 118
        },
        "outputId": "e212502f-dea5-4e0f-94df-1f6cd426b0b6"
      },
      "source": [
        "!git clone https://github.com/smitasasindran/eva5utils.git\n"
      ],
      "execution_count": 2,
      "outputs": [
        {
          "output_type": "stream",
          "text": [
            "Cloning into 'eva5utils'...\n",
            "remote: Enumerating objects: 25, done.\u001b[K\n",
            "remote: Counting objects: 100% (25/25), done.\u001b[K\n",
            "remote: Compressing objects: 100% (19/19), done.\u001b[K\n",
            "remote: Total 25 (delta 0), reused 25 (delta 0), pack-reused 0\u001b[K\n",
            "Unpacking objects: 100% (25/25), done.\n"
          ],
          "name": "stdout"
        }
      ]
    },
    {
      "cell_type": "code",
      "metadata": {
        "id": "LdfAfh6vu5t7",
        "colab_type": "code",
        "colab": {
          "base_uri": "https://localhost:8080/",
          "height": 34
        },
        "outputId": "e2629ddf-785b-4670-c72b-9c68f205c9c6"
      },
      "source": [
        "%cd eva5utils"
      ],
      "execution_count": 3,
      "outputs": [
        {
          "output_type": "stream",
          "text": [
            "/content/eva5utils\n"
          ],
          "name": "stdout"
        }
      ]
    },
    {
      "cell_type": "code",
      "metadata": {
        "id": "Cqz7A8MV0Znc",
        "colab_type": "code",
        "colab": {
          "base_uri": "https://localhost:8080/",
          "height": 34
        },
        "outputId": "07b51add-e8a9-4d58-b017-c6e15c1fe0df"
      },
      "source": [
        "!ls"
      ],
      "execution_count": 5,
      "outputs": [
        {
          "output_type": "stream",
          "text": [
            "config\tdataloaders  main.py  model  test  train  transforms  utils\n"
          ],
          "name": "stdout"
        }
      ]
    },
    {
      "cell_type": "markdown",
      "metadata": {
        "id": "-MhRQ7o2xCVn",
        "colab_type": "text"
      },
      "source": [
        "### **Loading the data**"
      ]
    },
    {
      "cell_type": "code",
      "metadata": {
        "id": "1fRTPUKGujjD",
        "colab_type": "code",
        "colab": {
          "base_uri": "https://localhost:8080/",
          "height": 1000,
          "referenced_widgets": [
            "06ef83885a2e46a19bf7393b74b3d9d4",
            "f84e9baa95684d85865e2c8e2d1f32a1",
            "36054e08e6c04d72be7eca66d1ebce5e",
            "cc16e6ea7ae14b6fa34c0c49500efb54",
            "2f404ae844374eeda15c785b81926442",
            "75ced57870294eaaaf4b9cc11b650f86",
            "131352b6833141f5b4c30436a561f4db",
            "68d1402d7548405f86e1a9c9367614db"
          ]
        },
        "outputId": "1535f024-cc19-4f9c-ea2a-d64573245323"
      },
      "source": [
        "from model import Model7\n",
        "from utils.helpers import show_model_summary, DEVICE, IS_CUDA, accuracy_per_class\n",
        "from dataloaders import dataloaders\n",
        "from transforms import model7_transforms\n",
        "from utils import plot_samples\n",
        "from train import train_loop\n",
        "from test import test_loop\n",
        "import torch.optim as optim\n",
        "import torch.nn as nn\n",
        "\n",
        "\n",
        "model = Model7()\n",
        "show_model_summary(model.to(DEVICE), (3, 32, 32))\n",
        "\n",
        "# Constants, put in config\n",
        "epochs = 50\n",
        "cuda_batch_size=128\n",
        "cpu_batch_size = 4\n",
        "num_workers = 4\n",
        "\n",
        "transforms = model7_transforms()\n",
        "(train_loader, test_loader, classes) = dataloaders.load_cifar10(transforms, cuda_batch_size, cpu_batch_size, num_workers)\n",
        "\n",
        "plot_samples(train_loader)\n",
        "\n",
        "criterion = nn.CrossEntropyLoss()\n",
        "optimizer = optim.SGD(model.parameters(), lr=0.009, momentum=0.9)\n"
      ],
      "execution_count": 7,
      "outputs": [
        {
          "output_type": "stream",
          "text": [
            "----------------------------------------------------------------\n",
            "        Layer (type)               Output Shape         Param #\n",
            "================================================================\n",
            "            Conv2d-1            [-1, 3, 32, 32]              27\n",
            "            Conv2d-2           [-1, 25, 32, 32]             100\n",
            "              ReLU-3           [-1, 25, 32, 32]               0\n",
            "       BatchNorm2d-4           [-1, 25, 32, 32]              50\n",
            "            Conv2d-5           [-1, 25, 32, 32]             225\n",
            "            Conv2d-6           [-1, 50, 32, 32]           1,300\n",
            "              ReLU-7           [-1, 50, 32, 32]               0\n",
            "       BatchNorm2d-8           [-1, 50, 32, 32]             100\n",
            "         MaxPool2d-9           [-1, 50, 16, 16]               0\n",
            "           Conv2d-10           [-1, 50, 16, 16]             450\n",
            "           Conv2d-11          [-1, 100, 16, 16]           5,100\n",
            "             ReLU-12          [-1, 100, 16, 16]               0\n",
            "      BatchNorm2d-13          [-1, 100, 16, 16]             200\n",
            "           Conv2d-14          [-1, 100, 16, 16]             900\n",
            "           Conv2d-15          [-1, 200, 16, 16]          20,200\n",
            "             ReLU-16          [-1, 200, 16, 16]               0\n",
            "      BatchNorm2d-17          [-1, 200, 16, 16]             400\n",
            "        MaxPool2d-18            [-1, 200, 8, 8]               0\n",
            "           Conv2d-19            [-1, 500, 6, 6]         900,000\n",
            "             ReLU-20            [-1, 500, 6, 6]               0\n",
            "      BatchNorm2d-21            [-1, 500, 6, 6]           1,000\n",
            "        MaxPool2d-22            [-1, 500, 3, 3]               0\n",
            "           Conv2d-23             [-1, 10, 3, 3]           5,000\n",
            "             ReLU-24             [-1, 10, 3, 3]               0\n",
            "        AvgPool2d-25             [-1, 10, 1, 1]               0\n",
            "================================================================\n",
            "Total params: 935,052\n",
            "Trainable params: 935,052\n",
            "Non-trainable params: 0\n",
            "----------------------------------------------------------------\n",
            "Input size (MB): 0.01\n",
            "Forward/backward pass size (MB): 4.67\n",
            "Params size (MB): 3.57\n",
            "Estimated Total Size (MB): 8.25\n",
            "----------------------------------------------------------------\n",
            "None\n",
            "Downloading https://www.cs.toronto.edu/~kriz/cifar-10-python.tar.gz to ./data/cifar-10-python.tar.gz\n"
          ],
          "name": "stdout"
        },
        {
          "output_type": "display_data",
          "data": {
            "application/vnd.jupyter.widget-view+json": {
              "model_id": "06ef83885a2e46a19bf7393b74b3d9d4",
              "version_minor": 0,
              "version_major": 2
            },
            "text/plain": [
              "HBox(children=(FloatProgress(value=1.0, bar_style='info', max=1.0), HTML(value='')))"
            ]
          },
          "metadata": {
            "tags": []
          }
        },
        {
          "output_type": "stream",
          "text": [
            "Extracting ./data/cifar-10-python.tar.gz to ./data\n",
            "Files already downloaded and verified\n",
            "\n"
          ],
          "name": "stdout"
        },
        {
          "output_type": "display_data",
          "data": {
            "image/png": "[encoded data removed]",
            "text/plain": [
              "<Figure size 432x288 with 1 Axes>"
            ]
          },
          "metadata": {
            "tags": [],
            "needs_background": "light"
          }
        }
      ]
    },
    {
      "cell_type": "markdown",
      "metadata": {
        "id": "QaUjRrMRw9Yg",
        "colab_type": "text"
      },
      "source": [
        "### **Training and test loops**"
      ]
    },
    {
      "cell_type": "code",
      "metadata": {
        "id": "sLfXzHpTw_0t",
        "colab_type": "code",
        "colab": {
          "base_uri": "https://localhost:8080/",
          "height": 857
        },
        "outputId": "762db829-ce05-4f17-d03b-0224082f4577"
      },
      "source": [
        "train_loop(epochs, train_loader, model, DEVICE, optimizer, criterion)\n"
      ],
      "execution_count": 9,
      "outputs": [
        {
          "output_type": "stream",
          "text": [
            "[1,   391] loss: 511.908\n",
            "[2,   391] loss: 332.954\n",
            "[3,   391] loss: 265.205\n",
            "[4,   391] loss: 221.879\n",
            "[5,   391] loss: 190.359\n",
            "[6,   391] loss: 164.528\n",
            "[7,   391] loss: 142.348\n",
            "[8,   391] loss: 122.084\n",
            "[9,   391] loss: 104.811\n",
            "[10,   391] loss: 86.971\n",
            "[11,   391] loss: 72.796\n",
            "[12,   391] loss: 59.925\n",
            "[13,   391] loss: 47.384\n",
            "[14,   391] loss: 39.931\n",
            "[15,   391] loss: 31.020\n",
            "[16,   391] loss: 23.793\n",
            "[17,   391] loss: 19.016\n",
            "[18,   391] loss: 14.247\n",
            "[19,   391] loss: 10.639\n",
            "[20,   391] loss: 8.018\n",
            "[21,   391] loss: 5.567\n",
            "[22,   391] loss: 4.215\n",
            "[23,   391] loss: 2.878\n",
            "[24,   391] loss: 2.283\n",
            "[25,   391] loss: 1.760\n",
            "[26,   391] loss: 1.498\n",
            "[27,   391] loss: 1.280\n",
            "[28,   391] loss: 1.190\n",
            "[29,   391] loss: 1.020\n",
            "[30,   391] loss: 0.934\n",
            "[31,   391] loss: 0.833\n",
            "[32,   391] loss: 0.777\n",
            "[33,   391] loss: 0.690\n",
            "[34,   391] loss: 0.622\n",
            "[35,   391] loss: 0.615\n",
            "[36,   391] loss: 0.599\n",
            "[37,   391] loss: 0.548\n",
            "[38,   391] loss: 0.510\n",
            "[39,   391] loss: 0.484\n",
            "[40,   391] loss: 0.480\n",
            "[41,   391] loss: 0.455\n",
            "[42,   391] loss: 0.458\n",
            "[43,   391] loss: 0.402\n",
            "[44,   391] loss: 0.409\n",
            "[45,   391] loss: 0.403\n",
            "[46,   391] loss: 0.373\n",
            "[47,   391] loss: 0.361\n",
            "[48,   391] loss: 0.350\n",
            "[49,   391] loss: 0.343\n",
            "[50,   391] loss: 0.337\n"
          ],
          "name": "stdout"
        }
      ]
    },
    {
      "cell_type": "markdown",
      "metadata": {
        "id": "LxVy33O-5wMt",
        "colab_type": "text"
      },
      "source": [
        "**Run the test loop**"
      ]
    },
    {
      "cell_type": "code",
      "metadata": {
        "id": "a3oPFpHYxBDk",
        "colab_type": "code",
        "colab": {
          "base_uri": "https://localhost:8080/",
          "height": 34
        },
        "outputId": "a2d4014d-cc54-4cb9-e33a-3f42987c82cc"
      },
      "source": [
        "test_loop(test_loader, model, DEVICE, criterion)\n"
      ],
      "execution_count": 10,
      "outputs": [
        {
          "output_type": "stream",
          "text": [
            "Accuracy of the network on the 10000 test images: 82 %, Test loss: 57.92210000753403\n"
          ],
          "name": "stdout"
        }
      ]
    },
    {
      "cell_type": "markdown",
      "metadata": {
        "id": "XrvhM2_-5tFu",
        "colab_type": "text"
      },
      "source": [
        "**Showing Accuracy per class**"
      ]
    },
    {
      "cell_type": "code",
      "metadata": {
        "id": "H2eS-Tcp2C6T",
        "colab_type": "code",
        "colab": {
          "base_uri": "https://localhost:8080/",
          "height": 185
        },
        "outputId": "cc4b2782-5795-44dc-9ef5-5f7f815f148c"
      },
      "source": [
        "from utils.helpers import accuracy_per_class\n",
        "accuracy_per_class(model, classes, test_loader, DEVICE)"
      ],
      "execution_count": 12,
      "outputs": [
        {
          "output_type": "stream",
          "text": [
            "Accuracy of plane : 86 %\n",
            "Accuracy of   car : 88 %\n",
            "Accuracy of  bird : 76 %\n",
            "Accuracy of   cat : 64 %\n",
            "Accuracy of  deer : 92 %\n",
            "Accuracy of   dog : 79 %\n",
            "Accuracy of  frog : 82 %\n",
            "Accuracy of horse : 89 %\n",
            "Accuracy of  ship : 84 %\n",
            "Accuracy of truck : 88 %\n"
          ],
          "name": "stdout"
        }
      ]
    }
  ]
}